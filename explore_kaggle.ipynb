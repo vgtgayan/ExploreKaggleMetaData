{
 "cells": [
  {
   "attachments": {},
   "cell_type": "markdown",
   "id": "d904df8b",
   "metadata": {},
   "source": [
    "### Learning Assignment\n",
    "1.\tExplore Kaggle API\n",
    "2.\tPlot how #users grew over time (since 2010) using Kaggle API\n",
    "3.\tPlot top 5 countries based on #users from that country as a bar chart\n",
    "a.\tAlso, plot how numbers of users grew over time for each of these countries\n",
    "4.\tPlot top 10 countries with GMs as a bar chart\n",
    "5.\tPlot top 10 competition tags and the number of competitions associated with those\n",
    "a.\tAlso, plot (over time) the number of competition associated with each of these tags."
   ]
  },
  {
   "cell_type": "markdown",
   "id": "f87af643",
   "metadata": {},
   "source": [
    "### 1. Explore Kaggle API\n",
    "References:\n",
    "- https://www.kaggle.com/donkeys/kaggle-python-api\n",
    "- https://github.com/Kaggle/kaggle-api\n",
    "- https://www.kaggle.com/steubk/a-meta-kaggler-s-guide-to-kaggle\n",
    "- https://www.kaggle.com/kaggle/meta-kaggle\n",
    "\n",
    "Git Hub Repo:\n",
    "- https://github.com/vgtgayan/ExploreKaggleMetaData/tree/master"
   ]
  },
  {
   "cell_type": "code",
   "execution_count": 2,
   "id": "401dbe33",
   "metadata": {},
   "outputs": [],
   "source": [
    "# pip install kaggle"
   ]
  },
  {
   "cell_type": "code",
   "execution_count": 3,
   "id": "0a9b1740",
   "metadata": {},
   "outputs": [],
   "source": [
    "# import kaggle\n",
    "from kaggle.api.kaggle_api_extended import KaggleApi\n",
    "\n",
    "import pandas as pd\n",
    "import numpy as np\n",
    "import matplotlib.pyplot as plt\n",
    "%matplotlib inline"
   ]
  },
  {
   "cell_type": "code",
   "execution_count": 4,
   "id": "25068ff6",
   "metadata": {},
   "outputs": [],
   "source": [
    "kapi = KaggleApi()\n",
    "kapi.authenticate()\n",
    "# print(kapi.get_config_value('username'))"
   ]
  },
  {
   "cell_type": "code",
   "execution_count": 5,
   "id": "e4e13e62",
   "metadata": {},
   "outputs": [
    {
     "name": "stdout",
     "output_type": "stream",
     "text": [
      "ref                                                        title                                  size  lastUpdated          downloadCount  voteCount  usabilityRating  \n",
      "---------------------------------------------------------  ------------------------------------  -----  -------------------  -------------  ---------  ---------------  \n",
      "vikasg/russian-troll-tweets                                Russian Troll Tweets                   21MB  2018-02-15 00:49:04           3635        138  0.7352941        \n",
      "sharthz23/mts-library                                      MTS Library                            15MB  2020-10-08 05:03:25            442         19  1.0              \n",
      "jtrotman/user-achievements-snapshots                       User Achievements Snapshots            44MB  2021-10-02 10:58:09             13          4  1.0              \n",
      "arashnic/book-recommendation-dataset                       Book Recommendation Dataset            24MB  2020-11-29 01:29:41           4659         70  1.0              \n",
      "ruchi798/bookcrossing-dataset                              Book-Crossing: User review ratings     76MB  2021-02-17 05:14:41           5077        282  1.0              \n",
      "colinmorris/reddit-usernames                               Reddit Usernames                      213MB  2017-12-08 03:22:53           1272         45  0.8235294        \n",
      "prathamsharma123/farmers-protest-tweets-dataset-csv        Farmers Protest Tweets Dataset (CSV)  315MB  2021-11-21 07:04:07            335         23  1.0              \n",
      "alyeasin/dataset-of-laptop-users                           Dataset of Laptop Users 🗃📌💻            415B  2021-06-03 12:47:46            539         22  1.0              \n",
      "qvinhdo/myanimelist                                        MyAnimeList                           899MB  2020-09-15 02:20:00            142          4  0.7058824        \n",
      "aungpyaeap/movie-streaming-datasets-iflix                  Movie streaming datasets iflix         10MB  2020-01-08 15:24:09           1653         12  0.9411765        \n",
      "davydev/shopee-code-league-20                              Shopee Code League 2020 Data Science   17GB  2020-08-03 08:38:48           1947         78  0.88235295       \n",
      "kingabzpro/bad-password                                    Bad Password                           88KB  2020-12-13 14:36:07            147          5  1.0              \n",
      "leomauro/argodatathon2019                                  Travel Dataset - Datathon 2019          3MB  2019-11-14 13:38:48           1312          7  1.0              \n",
      "teesoong/ml-challenge                                      Restaurant Recommendations             53MB  2020-08-29 15:48:56            111          8  0.5294118        \n",
      "saurabhbagchi/books-dataset                                Books Dataset                          25MB  2020-10-09 05:14:41            398         11  1.0              \n",
      "sagol79/stemmed-description-tokens-and-application-genres  Mobile apps with descriptions         319MB  2021-06-06 21:53:12            189         11  1.0              \n",
      "jirakst/bookcrossing                                       BookCrossing                           49MB  2019-08-05 13:22:10            625         13  0.5882353        \n",
      "syedjaferk/book-crossing-dataset                           Book Crossing Dataset                  25MB  2021-10-21 03:09:40             82         10  1.0              \n",
      "margarethamartinez/socialmedia2021                         Social Media Users 2021                660B  2021-02-26 00:37:42            440          8  0.5882353        \n",
      "ra4u12/bookrecommendation                                  book dataset                           25MB  2019-01-05 17:45:03            767         10  0.29411766       \n"
     ]
    }
   ],
   "source": [
    "!kaggle datasets list -s \"Users.csv\""
   ]
  },
  {
   "cell_type": "code",
   "execution_count": 6,
   "id": "5759f452",
   "metadata": {},
   "outputs": [
    {
     "name": "stdout",
     "output_type": "stream",
     "text": [
      "ref                                            deadline             category            reward  teamCount  userHasEntered  \n",
      "---------------------------------------------  -------------------  ---------------  ---------  ---------  --------------  \n",
      "contradictory-my-dear-watson                   2030-07-01 23:59:00  Getting Started     Prizes         90           False  \n",
      "gan-getting-started                            2030-07-01 23:59:00  Getting Started     Prizes         93           False  \n",
      "store-sales-time-series-forecasting            2030-06-30 23:59:00  Getting Started  Knowledge        954           False  \n",
      "tpu-getting-started                            2030-06-03 23:59:00  Getting Started  Knowledge        158           False  \n",
      "digit-recognizer                               2030-01-01 00:00:00  Getting Started  Knowledge       1751           False  \n",
      "titanic                                        2030-01-01 00:00:00  Getting Started  Knowledge      14397           False  \n",
      "house-prices-advanced-regression-techniques    2030-01-01 00:00:00  Getting Started  Knowledge       5380            True  \n",
      "connectx                                       2030-01-01 00:00:00  Getting Started  Knowledge        217           False  \n",
      "nlp-getting-started                            2030-01-01 00:00:00  Getting Started  Knowledge        913           False  \n",
      "competitive-data-science-predict-future-sales  2022-12-31 23:59:00  Playground           Kudos      13235           False  \n",
      "feedback-prize-2021                            2022-03-15 23:59:00  Featured          $160,000        214           False  \n",
      "tensorflow-great-barrier-reef                  2022-02-14 23:59:00  Research          $150,000        635           False  \n",
      "jigsaw-toxic-severity-rating                   2022-02-07 23:59:00  Featured           $50,000       1241           False  \n",
      "g-research-crypto-forecasting                  2022-02-01 23:59:00  Featured          $125,000       1097           False  \n",
      "petfinder-pawpularity-score                    2022-01-13 23:59:00  Research           $25,000       3062           False  \n",
      "santa-2021                                     2022-01-11 23:59:00  Featured           $25,000        728           False  \n",
      "optiver-realized-volatility-prediction         2022-01-10 23:59:00  Featured          $100,000       3852           False  \n",
      "nfl-big-data-bowl-2022                         2022-01-06 23:59:00  Analytics         $100,000          0           False  \n",
      "tabular-playground-series-dec-2021             2021-12-31 23:59:00  Playground            Swag        880           False  \n",
      "sartorius-cell-instance-segmentation           2021-12-30 23:59:00  Featured           $75,000       1431           False  \n"
     ]
    }
   ],
   "source": [
    "!kaggle competitions list"
   ]
  },
  {
   "cell_type": "markdown",
   "id": "7f8de05e",
   "metadata": {},
   "source": [
    "Below is the command to download kaggle meta data set (17GB)"
   ]
  },
  {
   "cell_type": "code",
   "execution_count": 7,
   "id": "e798021f",
   "metadata": {},
   "outputs": [],
   "source": [
    "# !kaggle datasets download -d kaggle/meta-kaggle"
   ]
  },
  {
   "cell_type": "markdown",
   "id": "8b901899",
   "metadata": {},
   "source": [
    "#### Read users csv file into pandas data frame"
   ]
  },
  {
   "cell_type": "code",
   "execution_count": 8,
   "id": "7fd862a4",
   "metadata": {},
   "outputs": [
    {
     "data": {
      "text/html": [
       "<div>\n",
       "<style scoped>\n",
       "    .dataframe tbody tr th:only-of-type {\n",
       "        vertical-align: middle;\n",
       "    }\n",
       "\n",
       "    .dataframe tbody tr th {\n",
       "        vertical-align: top;\n",
       "    }\n",
       "\n",
       "    .dataframe thead th {\n",
       "        text-align: right;\n",
       "    }\n",
       "</style>\n",
       "<table border=\"1\" class=\"dataframe\">\n",
       "  <thead>\n",
       "    <tr style=\"text-align: right;\">\n",
       "      <th></th>\n",
       "      <th>Id</th>\n",
       "      <th>UserName</th>\n",
       "      <th>DisplayName</th>\n",
       "      <th>RegisterDate</th>\n",
       "      <th>PerformanceTier</th>\n",
       "    </tr>\n",
       "  </thead>\n",
       "  <tbody>\n",
       "    <tr>\n",
       "      <th>0</th>\n",
       "      <td>1</td>\n",
       "      <td>kaggleteam</td>\n",
       "      <td>Kaggle Team</td>\n",
       "      <td>03/24/2011</td>\n",
       "      <td>5</td>\n",
       "    </tr>\n",
       "    <tr>\n",
       "      <th>1</th>\n",
       "      <td>368</td>\n",
       "      <td>antgoldbloom</td>\n",
       "      <td>Anthony Goldbloom</td>\n",
       "      <td>01/20/2010</td>\n",
       "      <td>5</td>\n",
       "    </tr>\n",
       "    <tr>\n",
       "      <th>2</th>\n",
       "      <td>381</td>\n",
       "      <td>iguyon</td>\n",
       "      <td>Isabelle</td>\n",
       "      <td>01/29/2010</td>\n",
       "      <td>2</td>\n",
       "    </tr>\n",
       "    <tr>\n",
       "      <th>3</th>\n",
       "      <td>383</td>\n",
       "      <td>davidstephan</td>\n",
       "      <td>David Stephan</td>\n",
       "      <td>02/01/2010</td>\n",
       "      <td>0</td>\n",
       "    </tr>\n",
       "    <tr>\n",
       "      <th>4</th>\n",
       "      <td>384</td>\n",
       "      <td>gabewarren</td>\n",
       "      <td>Gabe Warren</td>\n",
       "      <td>02/02/2010</td>\n",
       "      <td>0</td>\n",
       "    </tr>\n",
       "  </tbody>\n",
       "</table>\n",
       "</div>"
      ],
      "text/plain": [
       "    Id      UserName        DisplayName RegisterDate  PerformanceTier\n",
       "0    1    kaggleteam        Kaggle Team   03/24/2011                5\n",
       "1  368  antgoldbloom  Anthony Goldbloom   01/20/2010                5\n",
       "2  381        iguyon           Isabelle   01/29/2010                2\n",
       "3  383  davidstephan      David Stephan   02/01/2010                0\n",
       "4  384    gabewarren        Gabe Warren   02/02/2010                0"
      ]
     },
     "execution_count": 8,
     "metadata": {},
     "output_type": "execute_result"
    }
   ],
   "source": [
    "df = pd.read_csv(\"Users.csv\")\n",
    "df.head()"
   ]
  },
  {
   "cell_type": "code",
   "execution_count": 9,
   "id": "7cb339dc",
   "metadata": {},
   "outputs": [
    {
     "data": {
      "text/plain": [
       "(8481954, 5)"
      ]
     },
     "execution_count": 9,
     "metadata": {},
     "output_type": "execute_result"
    }
   ],
   "source": [
    "df.shape"
   ]
  },
  {
   "cell_type": "code",
   "execution_count": 10,
   "id": "923e3b43",
   "metadata": {},
   "outputs": [
    {
     "data": {
      "text/plain": [
       "Id                   0\n",
       "UserName             1\n",
       "DisplayName        219\n",
       "RegisterDate         0\n",
       "PerformanceTier      0\n",
       "dtype: int64"
      ]
     },
     "execution_count": 10,
     "metadata": {},
     "output_type": "execute_result"
    }
   ],
   "source": [
    "# Check for null values\n",
    "df.isnull().sum()"
   ]
  },
  {
   "cell_type": "code",
   "execution_count": 12,
   "id": "bc0614e4",
   "metadata": {},
   "outputs": [
    {
     "data": {
      "text/html": [
       "<div>\n",
       "<style scoped>\n",
       "    .dataframe tbody tr th:only-of-type {\n",
       "        vertical-align: middle;\n",
       "    }\n",
       "\n",
       "    .dataframe tbody tr th {\n",
       "        vertical-align: top;\n",
       "    }\n",
       "\n",
       "    .dataframe thead th {\n",
       "        text-align: right;\n",
       "    }\n",
       "</style>\n",
       "<table border=\"1\" class=\"dataframe\">\n",
       "  <thead>\n",
       "    <tr style=\"text-align: right;\">\n",
       "      <th></th>\n",
       "      <th>Id</th>\n",
       "      <th>UserName</th>\n",
       "      <th>DisplayName</th>\n",
       "      <th>RegisterDate</th>\n",
       "      <th>PerformanceTier</th>\n",
       "    </tr>\n",
       "  </thead>\n",
       "  <tbody>\n",
       "    <tr>\n",
       "      <th>0</th>\n",
       "      <td>1</td>\n",
       "      <td>kaggleteam</td>\n",
       "      <td>Kaggle Team</td>\n",
       "      <td>2011-03-24</td>\n",
       "      <td>5</td>\n",
       "    </tr>\n",
       "    <tr>\n",
       "      <th>1</th>\n",
       "      <td>368</td>\n",
       "      <td>antgoldbloom</td>\n",
       "      <td>Anthony Goldbloom</td>\n",
       "      <td>2010-01-20</td>\n",
       "      <td>5</td>\n",
       "    </tr>\n",
       "    <tr>\n",
       "      <th>2</th>\n",
       "      <td>381</td>\n",
       "      <td>iguyon</td>\n",
       "      <td>Isabelle</td>\n",
       "      <td>2010-01-29</td>\n",
       "      <td>2</td>\n",
       "    </tr>\n",
       "    <tr>\n",
       "      <th>3</th>\n",
       "      <td>383</td>\n",
       "      <td>davidstephan</td>\n",
       "      <td>David Stephan</td>\n",
       "      <td>2010-02-01</td>\n",
       "      <td>0</td>\n",
       "    </tr>\n",
       "    <tr>\n",
       "      <th>4</th>\n",
       "      <td>384</td>\n",
       "      <td>gabewarren</td>\n",
       "      <td>Gabe Warren</td>\n",
       "      <td>2010-02-02</td>\n",
       "      <td>0</td>\n",
       "    </tr>\n",
       "  </tbody>\n",
       "</table>\n",
       "</div>"
      ],
      "text/plain": [
       "    Id      UserName        DisplayName RegisterDate  PerformanceTier\n",
       "0    1    kaggleteam        Kaggle Team   2011-03-24                5\n",
       "1  368  antgoldbloom  Anthony Goldbloom   2010-01-20                5\n",
       "2  381        iguyon           Isabelle   2010-01-29                2\n",
       "3  383  davidstephan      David Stephan   2010-02-01                0\n",
       "4  384    gabewarren        Gabe Warren   2010-02-02                0"
      ]
     },
     "execution_count": 12,
     "metadata": {},
     "output_type": "execute_result"
    }
   ],
   "source": [
    "# Data type conversions\n",
    "df['RegisterDate'] = df['RegisterDate'].astype('datetime64[ns]')\n",
    "# df['RegisterDate'] = pd.to_datetime(df['RegisterDate'],format='%m%d%Y')\n",
    "df[:5]"
   ]
  },
  {
   "cell_type": "markdown",
   "id": "9e4dd0b1",
   "metadata": {},
   "source": [
    "### 2.\tPlot how #users grew over time (since 2010) using Kaggle API"
   ]
  },
  {
   "cell_type": "code",
   "execution_count": 13,
   "id": "48f0be1f",
   "metadata": {},
   "outputs": [
    {
     "data": {
      "image/png": "[encoded data removed]",
      "text/plain": [
       "<Figure size 864x576 with 1 Axes>"
      ]
     },
     "metadata": {
      "needs_background": "light"
     },
     "output_type": "display_data"
    }
   ],
   "source": [
    "df.hist(column='RegisterDate', bins=12, grid=False, figsize=(12,8), color='#86bf91', zorder=2, rwidth=0.9)\n",
    "plt.title('New Users each Year')\n",
    "plt.ylabel('New Users (millions)')\n",
    "plt.xlabel('Year')\n",
    "plt.show()"
   ]
  },
  {
   "cell_type": "markdown",
   "id": "8e4b8b77",
   "metadata": {},
   "source": [
    "Obtain registered year from 'RegisterDate'"
   ]
  },
  {
   "cell_type": "code",
   "execution_count": 14,
   "id": "8856f34d",
   "metadata": {},
   "outputs": [
    {
     "data": {
      "text/html": [
       "<div>\n",
       "<style scoped>\n",
       "    .dataframe tbody tr th:only-of-type {\n",
       "        vertical-align: middle;\n",
       "    }\n",
       "\n",
       "    .dataframe tbody tr th {\n",
       "        vertical-align: top;\n",
       "    }\n",
       "\n",
       "    .dataframe thead th {\n",
       "        text-align: right;\n",
       "    }\n",
       "</style>\n",
       "<table border=\"1\" class=\"dataframe\">\n",
       "  <thead>\n",
       "    <tr style=\"text-align: right;\">\n",
       "      <th></th>\n",
       "      <th>Id</th>\n",
       "      <th>UserName</th>\n",
       "      <th>DisplayName</th>\n",
       "      <th>RegisterDate</th>\n",
       "      <th>PerformanceTier</th>\n",
       "      <th>RegisterYear</th>\n",
       "    </tr>\n",
       "  </thead>\n",
       "  <tbody>\n",
       "    <tr>\n",
       "      <th>0</th>\n",
       "      <td>1</td>\n",
       "      <td>kaggleteam</td>\n",
       "      <td>Kaggle Team</td>\n",
       "      <td>2011-03-24</td>\n",
       "      <td>5</td>\n",
       "      <td>2011</td>\n",
       "    </tr>\n",
       "    <tr>\n",
       "      <th>1</th>\n",
       "      <td>368</td>\n",
       "      <td>antgoldbloom</td>\n",
       "      <td>Anthony Goldbloom</td>\n",
       "      <td>2010-01-20</td>\n",
       "      <td>5</td>\n",
       "      <td>2010</td>\n",
       "    </tr>\n",
       "    <tr>\n",
       "      <th>2</th>\n",
       "      <td>381</td>\n",
       "      <td>iguyon</td>\n",
       "      <td>Isabelle</td>\n",
       "      <td>2010-01-29</td>\n",
       "      <td>2</td>\n",
       "      <td>2010</td>\n",
       "    </tr>\n",
       "    <tr>\n",
       "      <th>3</th>\n",
       "      <td>383</td>\n",
       "      <td>davidstephan</td>\n",
       "      <td>David Stephan</td>\n",
       "      <td>2010-02-01</td>\n",
       "      <td>0</td>\n",
       "      <td>2010</td>\n",
       "    </tr>\n",
       "    <tr>\n",
       "      <th>4</th>\n",
       "      <td>384</td>\n",
       "      <td>gabewarren</td>\n",
       "      <td>Gabe Warren</td>\n",
       "      <td>2010-02-02</td>\n",
       "      <td>0</td>\n",
       "      <td>2010</td>\n",
       "    </tr>\n",
       "  </tbody>\n",
       "</table>\n",
       "</div>"
      ],
      "text/plain": [
       "    Id      UserName        DisplayName RegisterDate  PerformanceTier  \\\n",
       "0    1    kaggleteam        Kaggle Team   2011-03-24                5   \n",
       "1  368  antgoldbloom  Anthony Goldbloom   2010-01-20                5   \n",
       "2  381        iguyon           Isabelle   2010-01-29                2   \n",
       "3  383  davidstephan      David Stephan   2010-02-01                0   \n",
       "4  384    gabewarren        Gabe Warren   2010-02-02                0   \n",
       "\n",
       "   RegisterYear  \n",
       "0          2011  \n",
       "1          2010  \n",
       "2          2010  \n",
       "3          2010  \n",
       "4          2010  "
      ]
     },
     "execution_count": 14,
     "metadata": {},
     "output_type": "execute_result"
    }
   ],
   "source": [
    "df['RegisterYear'] = pd.DatetimeIndex(df['RegisterDate']).year\n",
    "df[:5]"
   ]
  },
  {
   "cell_type": "markdown",
   "id": "c5f79fcc",
   "metadata": {},
   "source": [
    "Plot 'RegisterYear' histogram"
   ]
  },
  {
   "cell_type": "code",
   "execution_count": 16,
   "id": "1ba8bc45",
   "metadata": {},
   "outputs": [
    {
     "data": {
      "image/png": "[encoded data removed]",
      "text/plain": [
       "<Figure size 864x576 with 1 Axes>"
      ]
     },
     "metadata": {
      "needs_background": "light"
     },
     "output_type": "display_data"
    }
   ],
   "source": [
    "df.hist(column='RegisterYear', bins=12, grid=False, figsize=(12,8), color='#86bf91', zorder=2, rwidth=0.9)\n",
    "plt.show()"
   ]
  },
  {
   "cell_type": "markdown",
   "id": "afaedfb1",
   "metadata": {},
   "source": [
    "Group by 'RegisterYear' to obtain the total no: of new user per year"
   ]
  },
  {
   "cell_type": "code",
   "execution_count": 17,
   "id": "867a5ab6",
   "metadata": {},
   "outputs": [
    {
     "data": {
      "text/html": [
       "<div>\n",
       "<style scoped>\n",
       "    .dataframe tbody tr th:only-of-type {\n",
       "        vertical-align: middle;\n",
       "    }\n",
       "\n",
       "    .dataframe tbody tr th {\n",
       "        vertical-align: top;\n",
       "    }\n",
       "\n",
       "    .dataframe thead th {\n",
       "        text-align: right;\n",
       "    }\n",
       "</style>\n",
       "<table border=\"1\" class=\"dataframe\">\n",
       "  <thead>\n",
       "    <tr style=\"text-align: right;\">\n",
       "      <th></th>\n",
       "      <th>RegisterYear</th>\n",
       "      <th>UsersPerYear</th>\n",
       "    </tr>\n",
       "  </thead>\n",
       "  <tbody>\n",
       "    <tr>\n",
       "      <th>0</th>\n",
       "      <td>2010</td>\n",
       "      <td>4521</td>\n",
       "    </tr>\n",
       "    <tr>\n",
       "      <th>1</th>\n",
       "      <td>2011</td>\n",
       "      <td>20836</td>\n",
       "    </tr>\n",
       "    <tr>\n",
       "      <th>2</th>\n",
       "      <td>2012</td>\n",
       "      <td>45977</td>\n",
       "    </tr>\n",
       "    <tr>\n",
       "      <th>3</th>\n",
       "      <td>2013</td>\n",
       "      <td>65738</td>\n",
       "    </tr>\n",
       "    <tr>\n",
       "      <th>4</th>\n",
       "      <td>2014</td>\n",
       "      <td>101241</td>\n",
       "    </tr>\n",
       "    <tr>\n",
       "      <th>5</th>\n",
       "      <td>2015</td>\n",
       "      <td>193583</td>\n",
       "    </tr>\n",
       "    <tr>\n",
       "      <th>6</th>\n",
       "      <td>2016</td>\n",
       "      <td>325414</td>\n",
       "    </tr>\n",
       "    <tr>\n",
       "      <th>7</th>\n",
       "      <td>2017</td>\n",
       "      <td>618915</td>\n",
       "    </tr>\n",
       "    <tr>\n",
       "      <th>8</th>\n",
       "      <td>2018</td>\n",
       "      <td>1068659</td>\n",
       "    </tr>\n",
       "    <tr>\n",
       "      <th>9</th>\n",
       "      <td>2019</td>\n",
       "      <td>1467369</td>\n",
       "    </tr>\n",
       "    <tr>\n",
       "      <th>10</th>\n",
       "      <td>2020</td>\n",
       "      <td>2053020</td>\n",
       "    </tr>\n",
       "    <tr>\n",
       "      <th>11</th>\n",
       "      <td>2021</td>\n",
       "      <td>2516681</td>\n",
       "    </tr>\n",
       "  </tbody>\n",
       "</table>\n",
       "</div>"
      ],
      "text/plain": [
       "    RegisterYear  UsersPerYear\n",
       "0           2010          4521\n",
       "1           2011         20836\n",
       "2           2012         45977\n",
       "3           2013         65738\n",
       "4           2014        101241\n",
       "5           2015        193583\n",
       "6           2016        325414\n",
       "7           2017        618915\n",
       "8           2018       1068659\n",
       "9           2019       1467369\n",
       "10          2020       2053020\n",
       "11          2021       2516681"
      ]
     },
     "execution_count": 17,
     "metadata": {},
     "output_type": "execute_result"
    }
   ],
   "source": [
    "users_by_year_df = df.groupby(['RegisterYear']).size().reset_index(name='UsersPerYear')\n",
    "users_by_year_df[:]"
   ]
  },
  {
   "cell_type": "markdown",
   "id": "c1eae32c",
   "metadata": {},
   "source": [
    "Added new field 'TotalUsers' to record the cumulative sum of users by year"
   ]
  },
  {
   "cell_type": "code",
   "execution_count": 18,
   "id": "9d6dd470",
   "metadata": {},
   "outputs": [
    {
     "data": {
      "text/html": [
       "<div>\n",
       "<style scoped>\n",
       "    .dataframe tbody tr th:only-of-type {\n",
       "        vertical-align: middle;\n",
       "    }\n",
       "\n",
       "    .dataframe tbody tr th {\n",
       "        vertical-align: top;\n",
       "    }\n",
       "\n",
       "    .dataframe thead th {\n",
       "        text-align: right;\n",
       "    }\n",
       "</style>\n",
       "<table border=\"1\" class=\"dataframe\">\n",
       "  <thead>\n",
       "    <tr style=\"text-align: right;\">\n",
       "      <th></th>\n",
       "      <th>RegisterYear</th>\n",
       "      <th>UsersPerYear</th>\n",
       "      <th>TotalUsers</th>\n",
       "    </tr>\n",
       "  </thead>\n",
       "  <tbody>\n",
       "    <tr>\n",
       "      <th>0</th>\n",
       "      <td>2010</td>\n",
       "      <td>4521</td>\n",
       "      <td>4521</td>\n",
       "    </tr>\n",
       "    <tr>\n",
       "      <th>1</th>\n",
       "      <td>2011</td>\n",
       "      <td>20836</td>\n",
       "      <td>25357</td>\n",
       "    </tr>\n",
       "    <tr>\n",
       "      <th>2</th>\n",
       "      <td>2012</td>\n",
       "      <td>45977</td>\n",
       "      <td>71334</td>\n",
       "    </tr>\n",
       "    <tr>\n",
       "      <th>3</th>\n",
       "      <td>2013</td>\n",
       "      <td>65738</td>\n",
       "      <td>137072</td>\n",
       "    </tr>\n",
       "    <tr>\n",
       "      <th>4</th>\n",
       "      <td>2014</td>\n",
       "      <td>101241</td>\n",
       "      <td>238313</td>\n",
       "    </tr>\n",
       "    <tr>\n",
       "      <th>5</th>\n",
       "      <td>2015</td>\n",
       "      <td>193583</td>\n",
       "      <td>431896</td>\n",
       "    </tr>\n",
       "    <tr>\n",
       "      <th>6</th>\n",
       "      <td>2016</td>\n",
       "      <td>325414</td>\n",
       "      <td>757310</td>\n",
       "    </tr>\n",
       "    <tr>\n",
       "      <th>7</th>\n",
       "      <td>2017</td>\n",
       "      <td>618915</td>\n",
       "      <td>1376225</td>\n",
       "    </tr>\n",
       "    <tr>\n",
       "      <th>8</th>\n",
       "      <td>2018</td>\n",
       "      <td>1068659</td>\n",
       "      <td>2444884</td>\n",
       "    </tr>\n",
       "    <tr>\n",
       "      <th>9</th>\n",
       "      <td>2019</td>\n",
       "      <td>1467369</td>\n",
       "      <td>3912253</td>\n",
       "    </tr>\n",
       "    <tr>\n",
       "      <th>10</th>\n",
       "      <td>2020</td>\n",
       "      <td>2053020</td>\n",
       "      <td>5965273</td>\n",
       "    </tr>\n",
       "    <tr>\n",
       "      <th>11</th>\n",
       "      <td>2021</td>\n",
       "      <td>2516681</td>\n",
       "      <td>8481954</td>\n",
       "    </tr>\n",
       "  </tbody>\n",
       "</table>\n",
       "</div>"
      ],
      "text/plain": [
       "    RegisterYear  UsersPerYear  TotalUsers\n",
       "0           2010          4521        4521\n",
       "1           2011         20836       25357\n",
       "2           2012         45977       71334\n",
       "3           2013         65738      137072\n",
       "4           2014        101241      238313\n",
       "5           2015        193583      431896\n",
       "6           2016        325414      757310\n",
       "7           2017        618915     1376225\n",
       "8           2018       1068659     2444884\n",
       "9           2019       1467369     3912253\n",
       "10          2020       2053020     5965273\n",
       "11          2021       2516681     8481954"
      ]
     },
     "execution_count": 18,
     "metadata": {},
     "output_type": "execute_result"
    }
   ],
   "source": [
    "users_by_year_df['TotalUsers'] = users_by_year_df['UsersPerYear']\n",
    "tot_users = 0\n",
    "for i,j in users_by_year_df.iterrows():\n",
    "    # print(j.UsersPerYear)\n",
    "    tot_users += j.UsersPerYear\n",
    "    users_by_year_df['TotalUsers'].iloc[i] = tot_users\n",
    "\n",
    "users_by_year_df[:]"
   ]
  },
  {
   "cell_type": "markdown",
   "id": "65269668",
   "metadata": {},
   "source": [
    "Plot the 'TotalUsers' against the 'RegisterYear'"
   ]
  },
  {
   "cell_type": "code",
   "execution_count": 22,
   "id": "47a1ae62",
   "metadata": {},
   "outputs": [
    {
     "data": {
      "image/png": "[encoded data removed]",
      "text/plain": [
       "<Figure size 864x576 with 1 Axes>"
      ]
     },
     "metadata": {
      "needs_background": "light"
     },
     "output_type": "display_data"
    }
   ],
   "source": [
    "users_by_year_df.plot.bar(x='RegisterYear', y='TotalUsers', figsize=(12,8), color='#86bf91')\n",
    "plt.title('Total Users')\n",
    "plt.ylabel('Total Users (millions)')\n",
    "plt.xlabel('Year')\n",
    "plt.show()"
   ]
  },
  {
   "cell_type": "markdown",
   "id": "0ca8ca9d",
   "metadata": {},
   "source": [
    "### 3.\tPlot top 5 countries based on #users from that country as a bar chart"
   ]
  },
  {
   "cell_type": "code",
   "execution_count": null,
   "id": "b488baad",
   "metadata": {},
   "outputs": [],
   "source": []
  }
 ],
 "metadata": {
  "kernelspec": {
   "display_name": "Python 3",
   "language": "python",
   "name": "python3"
  },
  "language_info": {
   "codemirror_mode": {
    "name": "ipython",
    "version": 3
   },
   "file_extension": ".py",
   "mimetype": "text/x-python",
   "name": "python",
   "nbconvert_exporter": "python",
   "pygments_lexer": "ipython3",
   "version": "3.8.8"
  }
 },
 "nbformat": 4,
 "nbformat_minor": 5
}
