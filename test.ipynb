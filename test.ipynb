{
 "cells": [
  {
   "cell_type": "code",
   "execution_count": 55,
   "metadata": {},
   "outputs": [],
   "source": [
    "import requests\n",
    "import json\n",
    "from bs4 import BeautifulSoup\n",
    "# import xmltodict\n",
    "# import xmltojson\n",
    "# import xml.etree.ElementTree as ET\n",
    "# from requests_html import HTML\n",
    "from requests_html import HTMLSession"
   ]
  },
  {
   "cell_type": "code",
   "execution_count": 67,
   "metadata": {},
   "outputs": [
    {
     "name": "stdout",
     "output_type": "stream",
     "text": [
      "200\n",
      "https://www.kaggle.com/rankings\n",
      "<title>Kaggle Rankings</title>\n",
      "<body data-turbolinks=\"false\">\n",
      "<main>\n",
      "<div id=\"site-container\"></div>\n",
      "<div data-component-name=\"NavigationContainer\" style=\"display: flex; flex-direction: column; flex: 1 0 auto;\"></div><script class=\"kaggle-component\" nonce=\"bw/OVEhF/ekdlx3FU2q2YA==\">var Kaggle=window.Kaggle||{};Kaggle.State=Kaggle.State||[];Kaggle.State.push({\"navigationType\":\"BOTH_NAV\"});performance && performance.mark && performance.mark(\"NavigationContainer.componentCouldBootstrap\");</script>\n",
      "<div class=\"hide\" id=\"site-body\">\n",
      "<div data-component-name=\"Leaderboards\" style=\"display: flex; flex-direction: column; flex: 1 0 auto;\"></div><script class=\"kaggle-component\" nonce=\"bw/OVEhF/ekdlx3FU2q2YA==\">var Kaggle=window.Kaggle||{};Kaggle.State=Kaggle.State||[];Kaggle.State.push({\"group\":\"competitions\",\"userRanking\":null,\"totalUsers\":0,\"counts\":[{\"tier\":\"grandmaster\",\"count\":242},{\"tier\":\"master\",\"count\":1676},{\"tier\":\"expert\",\"count\":7257},{\"tier\":\"contributor\",\"count\":65159},{\"tier\":\"novice\",\"count\":92959}],\"list\":[{\"currentRanking\":1,\"displayName\":\"Dieter\",\"thumbnailUrl\":\"https://storage.googleapis.com/kaggle-avatars/thumbnails/1424766-kg.png\",\"userId\":1424766,\"userUrl\":\"/christofhenkel\",\"tier\":\"grandmaster\",\"points\":289229.0,\"joinTime\":\"2017-11-17T06:39:22.317Z\",\"totalGoldMedals\":26,\"totalSilverMedals\":9,\"totalBronzeMedals\":3},{\"currentRanking\":2,\"displayName\":\"bestfitting\",\"thumbnailUrl\":\"https://storage.googleapis.com/kaggle-avatars/thumbnails/708283-kg.jpg\",\"userId\":708283,\"userUrl\":\"/bestfitting\",\"tier\":\"grandmaster\",\"points\":211888.0,\"joinTime\":\"2016-09-07T16:39:04.817Z\",\"totalGoldMedals\":34,\"totalSilverMedals\":10,\"totalBronzeMedals\":1},{\"currentRanking\":3,\"displayName\":\"Psi\",\"thumbnailUrl\":\"https://storage.googleapis.com/kaggle-avatars/thumbnails/37166-kg.png\",\"userId\":37166,\"userUrl\":\"/philippsinger\",\"tier\":\"grandmaster\",\"points\":199810.0,\"joinTime\":\"2012-03-29T14:12:46.277Z\",\"totalGoldMedals\":23,\"totalSilverMedals\":7,\"totalBronzeMedals\":0},{\"currentRanking\":4,\"displayName\":\"Guanshuo Xu\",\"thumbnailUrl\":\"https://storage.googleapis.com/kaggle-avatars/thumbnails/478989-kg.jpeg\",\"userId\":478989,\"userUrl\":\"/wowfattie\",\"tier\":\"grandmaster\",\"points\":178781.0,\"joinTime\":\"2015-12-02T04:40:13.517Z\",\"totalGoldMedals\":22,\"totalSilverMedals\":19,\"totalBronzeMedals\":2},{\"currentRanking\":5,\"displayName\":\"Ilu\",\"thumbnailUrl\":\"https://storage.googleapis.com/kaggle-avatars/thumbnails/2675447-kg.PNG\",\"userId\":2675447,\"userUrl\":\"/ilu000\",\"tier\":\"grandmaster\",\"points\":129019.0,\"joinTime\":\"2019-01-05T19:17:10.167Z\",\"totalGoldMedals\":12,\"totalSilverMedals\":5,\"totalBronzeMedals\":3},{\"currentRanking\":6,\"displayName\":\"Ahmet Erdem\",\"thumbnailUrl\":\"https://storage.googleapis.com/kaggle-avatars/thumbnails/471945-kg.png\",\"userId\":471945,\"userUrl\":\"/aerdem4\",\"tier\":\"grandmaster\",\"points\":122159.0,\"joinTime\":\"2015-11-22T15:08:14.03Z\",\"totalGoldMedals\":19,\"totalSilverMedals\":23,\"totalBronzeMedals\":4},{\"currentRanking\":7,\"displayName\":\"Qishen Ha\",\"thumbnailUrl\":\"https://storage.googleapis.com/kaggle-avatars/thumbnails/448347-kg.jpeg\",\"userId\":448347,\"userUrl\":\"/haqishen\",\"tier\":\"grandmaster\",\"points\":121430.0,\"joinTime\":\"2015-10-22T07:50:34.163Z\",\"totalGoldMedals\":15,\"totalSilverMedals\":8,\"totalBronzeMedals\":2},{\"currentRanking\":8,\"displayName\":\"Μαριος Μιχαηλιδης KazAnova\",\"thumbnailUrl\":\"https://storage.googleapis.com/kaggle-avatars/thumbnails/111640-fb.jpg\",\"userId\":111640,\"userUrl\":\"/kazanova\",\"tier\":\"grandmaster\",\"points\":114601.0,\"joinTime\":\"2013-06-24T19:35:02.9Z\",\"totalGoldMedals\":41,\"totalSilverMedals\":58,\"totalBronzeMedals\":42},{\"currentRanking\":9,\"displayName\":\"Giba\",\"thumbnailUrl\":\"https://storage.googleapis.com/kaggle-avatars/thumbnails/54836-kg.JPG\",\"userId\":54836,\"userUrl\":\"/titericz\",\"tier\":\"grandmaster\",\"points\":103765.0,\"joinTime\":\"2012-08-23T17:26:51.11Z\",\"totalGoldMedals\":58,\"totalSilverMedals\":47,\"totalBronzeMedals\":31},{\"currentRanking\":10,\"displayName\":\"DungNB\",\"thumbnailUrl\":\"https://storage.googleapis.com/kaggle-avatars/thumbnails/1393170-kg.jpg\",\"userId\":1393170,\"userUrl\":\"/nguyenbadung\",\"tier\":\"grandmaster\",\"points\":101174.0,\"joinTime\":\"2017-11-06T05:49:44.577Z\",\"totalGoldMedals\":6,\"totalSilverMedals\":11,\"totalBronzeMedals\":4},{\"currentRanking\":11,\"displayName\":\"dott\",\"thumbnailUrl\":\"https://storage.googleapis.com/kaggle-avatars/thumbnails/85156-gr.jpg\",\"userId\":85156,\"userUrl\":\"/dott1718\",\"tier\":\"grandmaster\",\"points\":98739.0,\"joinTime\":\"2013-02-14T12:25:16.093Z\",\"totalGoldMedals\":13,\"totalSilverMedals\":6,\"totalBronzeMedals\":2},{\"currentRanking\":12,\"displayName\":\"Selim Seferbekov\",\"thumbnailUrl\":\"https://storage.googleapis.com/kaggle-avatars/thumbnails/534152-kg.jpg\",\"userId\":534152,\"userUrl\":\"/selimsef\",\"tier\":\"grandmaster\",\"points\":98730.0,\"joinTime\":\"2016-02-20T12:55:09.263Z\",\"totalGoldMedals\":10,\"totalSilverMedals\":3,\"totalBronzeMedals\":1},{\"currentRanking\":13,\"displayName\":\"Bo\",\"thumbnailUrl\":\"https://storage.googleapis.com/kaggle-avatars/thumbnails/default-thumb.png\",\"userId\":1120704,\"userUrl\":\"/boliu0\",\"tier\":\"grandmaster\",\"points\":97000.0,\"joinTime\":\"2017-06-11T18:32:07.8Z\",\"totalGoldMedals\":15,\"totalSilverMedals\":8,\"totalBronzeMedals\":4},{\"currentRanking\":14,\"displayName\":\"Limerobot\",\"thumbnailUrl\":\"https://storage.googleapis.com/kaggle-avatars/thumbnails/1658108-kg.jpg\",\"userId\":1658108,\"userUrl\":\"/limerobot\",\"tier\":\"grandmaster\",\"points\":95868.0,\"joinTime\":\"2018-02-22T06:14:45.083Z\",\"totalGoldMedals\":11,\"totalSilverMedals\":5,\"totalBronzeMedals\":1},{\"currentRanking\":15,\"displayName\":\"CPMP\",\"thumbnailUrl\":\"https://storage.googleapis.com/kaggle-avatars/thumbnails/75976-gr.jpg\",\"userId\":75976,\"userUrl\":\"/cpmpml\",\"tier\":\"grandmaster\",\"points\":95201.0,\"joinTime\":\"2012-12-16T12:03:05.527Z\",\"totalGoldMedals\":21,\"totalSilverMedals\":21,\"totalBronzeMedals\":4},{\"currentRanking\":16,\"displayName\":\"Chris Deotte\",\"thumbnailUrl\":\"https://storage.googleapis.com/kaggle-avatars/thumbnails/1723677-kg.jpg\",\"userId\":1723677,\"userUrl\":\"/cdeotte\",\"tier\":\"grandmaster\",\"points\":89176.0,\"joinTime\":\"2018-03-14T22:51:30.63Z\",\"totalGoldMedals\":14,\"totalSilverMedals\":12,\"totalBronzeMedals\":8},{\"currentRanking\":17,\"displayName\":\"Bojan Tunguz\",\"thumbnailUrl\":\"https://storage.googleapis.com/kaggle-avatars/thumbnails/417337-fb.jpg\",\"userId\":417337,\"userUrl\":\"/tunguz\",\"tier\":\"grandmaster\",\"points\":84603.0,\"joinTime\":\"2015-09-11T21:32:16.517Z\",\"totalGoldMedals\":9,\"totalSilverMedals\":17,\"totalBronzeMedals\":28},{\"currentRanking\":18,\"displayName\":\"Tom\",\"thumbnailUrl\":\"https://storage.googleapis.com/kaggle-avatars/thumbnails/1565399-kg.png\",\"userId\":1565399,\"userUrl\":\"/tikutiku\",\"tier\":\"master\",\"points\":80349.0,\"joinTime\":\"2018-01-19T14:53:24.917Z\",\"totalGoldMedals\":4,\"totalSilverMedals\":10,\"totalBronzeMedals\":1},{\"currentRanking\":19,\"displayName\":\"tito\",\"thumbnailUrl\":\"https://storage.googleapis.com/kaggle-avatars/thumbnails/548996-fb.jpg\",\"userId\":548996,\"userUrl\":\"/its7171\",\"tier\":\"grandmaster\",\"points\":77725.0,\"joinTime\":\"2016-03-06T06:05:12.253Z\",\"totalGoldMedals\":11,\"totalSilverMedals\":13,\"totalBronzeMedals\":0},{\"currentRanking\":20,\"displayName\":\"Gary\",\"thumbnailUrl\":\"https://storage.googleapis.com/kaggle-avatars/thumbnails/1270655-kg.jpg\",\"userId\":1270655,\"userUrl\":\"/garybios\",\"tier\":\"grandmaster\",\"points\":77388.0,\"joinTime\":\"2017-09-16T06:45:04.867Z\",\"totalGoldMedals\":12,\"totalSilverMedals\":11,\"totalBronzeMedals\":0}],\"@wf\": \"Users.UserRankingsWireFormat\"});performance && performance.mark && performance.mark(\"Leaderboards.componentCouldBootstrap\");</script>\n",
      "</div>\n",
      "</main>\n",
      "</body>\n"
     ]
    }
   ],
   "source": [
    "page_number = '1'\n",
    "url = 'https://www.kaggle.com/users?page='+page_number\n",
    "# url = 'https://geeksforgeeks-example.surge.sh'\n",
    "# url = 'https://lichess.org/'\n",
    "# print(url)\n",
    "\n",
    "# r = requests.get(url, headers={'accept': 'application/json'})\n",
    "r = requests.get(url)\n",
    "print(r.status_code)\n",
    "print(r.url)\n",
    "html_text = r.text\n",
    "# print(html_text)\n",
    "# print(json.loads(html_text))\n",
    "# print(r.headers)\n",
    "# print(r.content)\n",
    "\n",
    "\n",
    "soup = BeautifulSoup(html_text, 'html.parser')\n",
    "print(soup.title)\n",
    "# print(soup.get_text())\n",
    "# print(soup.find_all(\"link\", href=True))\n",
    "# body_text = soup.find(\"body\")\n",
    "# print(body_text.find(\"div\", class_=\"leaderboards__name\"))\n",
    "print(str(soup.body))"
   ]
  },
  {
   "cell_type": "code",
   "execution_count": null,
   "metadata": {},
   "outputs": [],
   "source": [
    "base_url = 'https://www.kaggle.com/'\n",
    "username = 'iguyon'\n",
    "url = base_url+username\n",
    "r = requests.get(url)\n",
    "print(r.status_code)\n",
    "print(r.url)\n",
    "html_text = r.text\n",
    "\n",
    "soup = BeautifulSoup(html_text, 'html.parser')\n",
    "print(soup.title)\n",
    "# print(soup.get_text())\n",
    "# print(soup.find_all(\"link\", href=True))\n",
    "body_text = soup.find(\"main\")\n",
    "print(body_text)\n",
    "# print(body_text.find(\"p.profile__user-location\"))"
   ]
  },
  {
   "cell_type": "code",
   "execution_count": 61,
   "metadata": {},
   "outputs": [
    {
     "name": "stdout",
     "output_type": "stream",
     "text": [
      "['__attrs__', '__bool__', '__class__', '__delattr__', '__dict__', '__dir__', '__doc__', '__enter__', '__eq__', '__exit__', '__format__', '__ge__', '__getattribute__', '__getstate__', '__gt__', '__hash__', '__init__', '__init_subclass__', '__iter__', '__le__', '__lt__', '__module__', '__ne__', '__new__', '__nonzero__', '__reduce__', '__reduce_ex__', '__repr__', '__setattr__', '__setstate__', '__sizeof__', '__str__', '__subclasshook__', '__weakref__', '_content', '_content_consumed', '_from_response', '_html', '_next', 'apparent_encoding', 'close', 'connection', 'content', 'cookies', 'elapsed', 'encoding', 'headers', 'history', 'html', 'is_permanent_redirect', 'is_redirect', 'iter_content', 'iter_lines', 'json', 'links', 'next', 'ok', 'raise_for_status', 'raw', 'reason', 'request', 'session', 'status_code', 'text', 'url']\n"
     ]
    },
    {
     "ename": "JSONDecodeError",
     "evalue": "Expecting value: line 1 column 1 (char 0)",
     "output_type": "error",
     "traceback": [
      "\u001b[1;31m---------------------------------------------------------------------------\u001b[0m",
      "\u001b[1;31mJSONDecodeError\u001b[0m                           Traceback (most recent call last)",
      "\u001b[1;32m<ipython-input-61-f482898ea000>\u001b[0m in \u001b[0;36m<module>\u001b[1;34m\u001b[0m\n\u001b[0;32m      3\u001b[0m \u001b[0mr\u001b[0m \u001b[1;33m=\u001b[0m \u001b[0msession\u001b[0m\u001b[1;33m.\u001b[0m\u001b[0mget\u001b[0m\u001b[1;33m(\u001b[0m\u001b[0murl\u001b[0m\u001b[1;33m)\u001b[0m\u001b[1;33m\u001b[0m\u001b[1;33m\u001b[0m\u001b[0m\n\u001b[0;32m      4\u001b[0m \u001b[0mprint\u001b[0m\u001b[1;33m(\u001b[0m\u001b[0mdir\u001b[0m\u001b[1;33m(\u001b[0m\u001b[0mr\u001b[0m\u001b[1;33m)\u001b[0m\u001b[1;33m)\u001b[0m\u001b[1;33m\u001b[0m\u001b[1;33m\u001b[0m\u001b[0m\n\u001b[1;32m----> 5\u001b[1;33m \u001b[0mprint\u001b[0m\u001b[1;33m(\u001b[0m\u001b[0mr\u001b[0m\u001b[1;33m.\u001b[0m\u001b[0mjson\u001b[0m\u001b[1;33m(\u001b[0m\u001b[1;33m)\u001b[0m\u001b[1;33m)\u001b[0m\u001b[1;33m\u001b[0m\u001b[1;33m\u001b[0m\u001b[0m\n\u001b[0m\u001b[0;32m      6\u001b[0m \u001b[1;31m# r.html.render()\u001b[0m\u001b[1;33m\u001b[0m\u001b[1;33m\u001b[0m\u001b[1;33m\u001b[0m\u001b[0m\n\u001b[0;32m      7\u001b[0m \u001b[1;31m# print(r.text)\u001b[0m\u001b[1;33m\u001b[0m\u001b[1;33m\u001b[0m\u001b[1;33m\u001b[0m\u001b[0m\n",
      "\u001b[1;32m~\\Anaconda3\\lib\\site-packages\\requests\\models.py\u001b[0m in \u001b[0;36mjson\u001b[1;34m(self, **kwargs)\u001b[0m\n\u001b[0;32m    898\u001b[0m                     \u001b[1;31m# used.\u001b[0m\u001b[1;33m\u001b[0m\u001b[1;33m\u001b[0m\u001b[1;33m\u001b[0m\u001b[0m\n\u001b[0;32m    899\u001b[0m                     \u001b[1;32mpass\u001b[0m\u001b[1;33m\u001b[0m\u001b[1;33m\u001b[0m\u001b[0m\n\u001b[1;32m--> 900\u001b[1;33m         \u001b[1;32mreturn\u001b[0m \u001b[0mcomplexjson\u001b[0m\u001b[1;33m.\u001b[0m\u001b[0mloads\u001b[0m\u001b[1;33m(\u001b[0m\u001b[0mself\u001b[0m\u001b[1;33m.\u001b[0m\u001b[0mtext\u001b[0m\u001b[1;33m,\u001b[0m \u001b[1;33m**\u001b[0m\u001b[0mkwargs\u001b[0m\u001b[1;33m)\u001b[0m\u001b[1;33m\u001b[0m\u001b[1;33m\u001b[0m\u001b[0m\n\u001b[0m\u001b[0;32m    901\u001b[0m \u001b[1;33m\u001b[0m\u001b[0m\n\u001b[0;32m    902\u001b[0m     \u001b[1;33m@\u001b[0m\u001b[0mproperty\u001b[0m\u001b[1;33m\u001b[0m\u001b[1;33m\u001b[0m\u001b[0m\n",
      "\u001b[1;32m~\\Anaconda3\\lib\\json\\__init__.py\u001b[0m in \u001b[0;36mloads\u001b[1;34m(s, cls, object_hook, parse_float, parse_int, parse_constant, object_pairs_hook, **kw)\u001b[0m\n\u001b[0;32m    355\u001b[0m             \u001b[0mparse_int\u001b[0m \u001b[1;32mis\u001b[0m \u001b[1;32mNone\u001b[0m \u001b[1;32mand\u001b[0m \u001b[0mparse_float\u001b[0m \u001b[1;32mis\u001b[0m \u001b[1;32mNone\u001b[0m \u001b[1;32mand\u001b[0m\u001b[1;33m\u001b[0m\u001b[1;33m\u001b[0m\u001b[0m\n\u001b[0;32m    356\u001b[0m             parse_constant is None and object_pairs_hook is None and not kw):\n\u001b[1;32m--> 357\u001b[1;33m         \u001b[1;32mreturn\u001b[0m \u001b[0m_default_decoder\u001b[0m\u001b[1;33m.\u001b[0m\u001b[0mdecode\u001b[0m\u001b[1;33m(\u001b[0m\u001b[0ms\u001b[0m\u001b[1;33m)\u001b[0m\u001b[1;33m\u001b[0m\u001b[1;33m\u001b[0m\u001b[0m\n\u001b[0m\u001b[0;32m    358\u001b[0m     \u001b[1;32mif\u001b[0m \u001b[0mcls\u001b[0m \u001b[1;32mis\u001b[0m \u001b[1;32mNone\u001b[0m\u001b[1;33m:\u001b[0m\u001b[1;33m\u001b[0m\u001b[1;33m\u001b[0m\u001b[0m\n\u001b[0;32m    359\u001b[0m         \u001b[0mcls\u001b[0m \u001b[1;33m=\u001b[0m \u001b[0mJSONDecoder\u001b[0m\u001b[1;33m\u001b[0m\u001b[1;33m\u001b[0m\u001b[0m\n",
      "\u001b[1;32m~\\Anaconda3\\lib\\json\\decoder.py\u001b[0m in \u001b[0;36mdecode\u001b[1;34m(self, s, _w)\u001b[0m\n\u001b[0;32m    335\u001b[0m \u001b[1;33m\u001b[0m\u001b[0m\n\u001b[0;32m    336\u001b[0m         \"\"\"\n\u001b[1;32m--> 337\u001b[1;33m         \u001b[0mobj\u001b[0m\u001b[1;33m,\u001b[0m \u001b[0mend\u001b[0m \u001b[1;33m=\u001b[0m \u001b[0mself\u001b[0m\u001b[1;33m.\u001b[0m\u001b[0mraw_decode\u001b[0m\u001b[1;33m(\u001b[0m\u001b[0ms\u001b[0m\u001b[1;33m,\u001b[0m \u001b[0midx\u001b[0m\u001b[1;33m=\u001b[0m\u001b[0m_w\u001b[0m\u001b[1;33m(\u001b[0m\u001b[0ms\u001b[0m\u001b[1;33m,\u001b[0m \u001b[1;36m0\u001b[0m\u001b[1;33m)\u001b[0m\u001b[1;33m.\u001b[0m\u001b[0mend\u001b[0m\u001b[1;33m(\u001b[0m\u001b[1;33m)\u001b[0m\u001b[1;33m)\u001b[0m\u001b[1;33m\u001b[0m\u001b[1;33m\u001b[0m\u001b[0m\n\u001b[0m\u001b[0;32m    338\u001b[0m         \u001b[0mend\u001b[0m \u001b[1;33m=\u001b[0m \u001b[0m_w\u001b[0m\u001b[1;33m(\u001b[0m\u001b[0ms\u001b[0m\u001b[1;33m,\u001b[0m \u001b[0mend\u001b[0m\u001b[1;33m)\u001b[0m\u001b[1;33m.\u001b[0m\u001b[0mend\u001b[0m\u001b[1;33m(\u001b[0m\u001b[1;33m)\u001b[0m\u001b[1;33m\u001b[0m\u001b[1;33m\u001b[0m\u001b[0m\n\u001b[0;32m    339\u001b[0m         \u001b[1;32mif\u001b[0m \u001b[0mend\u001b[0m \u001b[1;33m!=\u001b[0m \u001b[0mlen\u001b[0m\u001b[1;33m(\u001b[0m\u001b[0ms\u001b[0m\u001b[1;33m)\u001b[0m\u001b[1;33m:\u001b[0m\u001b[1;33m\u001b[0m\u001b[1;33m\u001b[0m\u001b[0m\n",
      "\u001b[1;32m~\\Anaconda3\\lib\\json\\decoder.py\u001b[0m in \u001b[0;36mraw_decode\u001b[1;34m(self, s, idx)\u001b[0m\n\u001b[0;32m    353\u001b[0m             \u001b[0mobj\u001b[0m\u001b[1;33m,\u001b[0m \u001b[0mend\u001b[0m \u001b[1;33m=\u001b[0m \u001b[0mself\u001b[0m\u001b[1;33m.\u001b[0m\u001b[0mscan_once\u001b[0m\u001b[1;33m(\u001b[0m\u001b[0ms\u001b[0m\u001b[1;33m,\u001b[0m \u001b[0midx\u001b[0m\u001b[1;33m)\u001b[0m\u001b[1;33m\u001b[0m\u001b[1;33m\u001b[0m\u001b[0m\n\u001b[0;32m    354\u001b[0m         \u001b[1;32mexcept\u001b[0m \u001b[0mStopIteration\u001b[0m \u001b[1;32mas\u001b[0m \u001b[0merr\u001b[0m\u001b[1;33m:\u001b[0m\u001b[1;33m\u001b[0m\u001b[1;33m\u001b[0m\u001b[0m\n\u001b[1;32m--> 355\u001b[1;33m             \u001b[1;32mraise\u001b[0m \u001b[0mJSONDecodeError\u001b[0m\u001b[1;33m(\u001b[0m\u001b[1;34m\"Expecting value\"\u001b[0m\u001b[1;33m,\u001b[0m \u001b[0ms\u001b[0m\u001b[1;33m,\u001b[0m \u001b[0merr\u001b[0m\u001b[1;33m.\u001b[0m\u001b[0mvalue\u001b[0m\u001b[1;33m)\u001b[0m \u001b[1;32mfrom\u001b[0m \u001b[1;32mNone\u001b[0m\u001b[1;33m\u001b[0m\u001b[1;33m\u001b[0m\u001b[0m\n\u001b[0m\u001b[0;32m    356\u001b[0m         \u001b[1;32mreturn\u001b[0m \u001b[0mobj\u001b[0m\u001b[1;33m,\u001b[0m \u001b[0mend\u001b[0m\u001b[1;33m\u001b[0m\u001b[1;33m\u001b[0m\u001b[0m\n",
      "\u001b[1;31mJSONDecodeError\u001b[0m: Expecting value: line 1 column 1 (char 0)"
     ]
    }
   ],
   "source": [
    "session = HTMLSession()\n",
    "\n",
    "r = session.get(url)\n",
    "print(dir(r))\n",
    "print(r)\n",
    "# r.html.render()\n",
    "# print(r.text)"
   ]
  },
  {
   "cell_type": "code",
   "execution_count": 1,
   "metadata": {},
   "outputs": [
    {
     "name": "stdout",
     "output_type": "stream",
     "text": [
      "Collecting aiohttp[speedups]\n",
      "  Downloading aiohttp-3.8.1-cp38-cp38-win_amd64.whl (555 kB)\n",
      "Requirement already satisfied: attrs>=17.3.0 in c:\\users\\gayan\\anaconda3\\lib\\site-packages (from aiohttp[speedups]) (20.3.0)\n",
      "Collecting charset-normalizer<3.0,>=2.0\n",
      "  Downloading charset_normalizer-2.0.10-py3-none-any.whl (39 kB)\n",
      "Collecting yarl<2.0,>=1.0\n",
      "  Downloading yarl-1.7.2-cp38-cp38-win_amd64.whl (122 kB)\n",
      "Collecting frozenlist>=1.1.1\n",
      "  Downloading frozenlist-1.2.0-cp38-cp38-win_amd64.whl (83 kB)\n",
      "Collecting async-timeout<5.0,>=4.0.0a3\n",
      "  Downloading async_timeout-4.0.2-py3-none-any.whl (5.8 kB)\n",
      "Collecting aiosignal>=1.1.2\n",
      "  Downloading aiosignal-1.2.0-py3-none-any.whl (8.2 kB)\n",
      "Collecting multidict<7.0,>=4.5\n",
      "  Downloading multidict-5.2.0-cp38-cp38-win_amd64.whl (45 kB)\n",
      "Collecting aiodns\n",
      "  Downloading aiodns-3.0.0-py3-none-any.whl (5.0 kB)\n",
      "Collecting cchardet\n",
      "  Downloading cchardet-2.1.7-cp38-cp38-win_amd64.whl (115 kB)\n",
      "Collecting Brotli\n",
      "  Downloading Brotli-1.0.9-cp38-cp38-win_amd64.whl (365 kB)\n",
      "Requirement already satisfied: idna>=2.0 in c:\\users\\gayan\\anaconda3\\lib\\site-packages (from yarl<2.0,>=1.0->aiohttp[speedups]) (2.10)Note: you may need to restart the kernel to use updated packages.\n",
      "\n",
      "Collecting pycares>=4.0.0\n",
      "  Downloading pycares-4.1.2-cp38-cp38-win_amd64.whl (83 kB)\n",
      "Requirement already satisfied: cffi>=1.5.0 in c:\\users\\gayan\\anaconda3\\lib\\site-packages (from pycares>=4.0.0->aiodns->aiohttp[speedups]) (1.14.5)\n",
      "Requirement already satisfied: pycparser in c:\\users\\gayan\\anaconda3\\lib\\site-packages (from cffi>=1.5.0->pycares>=4.0.0->aiodns->aiohttp[speedups]) (2.20)\n",
      "Installing collected packages: multidict, frozenlist, yarl, pycares, charset-normalizer, async-timeout, aiosignal, cchardet, Brotli, aiohttp, aiodns\n",
      "Successfully installed Brotli-1.0.9 aiodns-3.0.0 aiohttp-3.8.1 aiosignal-1.2.0 async-timeout-4.0.2 cchardet-2.1.7 charset-normalizer-2.0.10 frozenlist-1.2.0 multidict-5.2.0 pycares-4.1.2 yarl-1.7.2\n"
     ]
    }
   ],
   "source": [
    "%pip install aiohttp[speedups]"
   ]
  },
  {
   "cell_type": "markdown",
   "metadata": {},
   "source": [
    "#### Try aiohttp and asyncio"
   ]
  },
  {
   "cell_type": "code",
   "execution_count": 1,
   "metadata": {},
   "outputs": [],
   "source": [
    "from time import sleep\n",
    "import aiohttp\n",
    "import asyncio\n",
    "import time\n",
    "import re\n",
    "import pandas as pd\n",
    "import numpy as np"
   ]
  },
  {
   "cell_type": "code",
   "execution_count": 8,
   "metadata": {},
   "outputs": [],
   "source": [
    "async def get_country(session, url):\n",
    "    '''\n",
    "        Return the country of a given kaggle user\n",
    "    '''    \n",
    "    async with session.get(url) as resp:\n",
    "        html_text = await str(resp.content)\n",
    "        # pokemon = await resp.json()\n",
    "        country = re.search(r',\"country\":\"([\\w ]+)\"', html_text)\n",
    "        return str(country.group(1))\n",
    "\n",
    "\n",
    "async def get_country_wrapper(usernames):\n",
    "\n",
    "    try:\n",
    "        async with aiohttp.ClientSession() as session:\n",
    "            \n",
    "            base_url = 'https://www.kaggle.com/'\n",
    "            result = []\n",
    "            for username in usernames:\n",
    "                url = base_url+str(username)\n",
    "                result.append(asyncio.create_task(get_country(session, url)))\n",
    "\n",
    "            country_lst = await asyncio.gather(*result)\n",
    "            return country_lst\n",
    "\n",
    "    except Exception as e:\n",
    "        print(\"Error: \",e)"
   ]
  },
  {
   "cell_type": "code",
   "execution_count": 2,
   "metadata": {},
   "outputs": [
    {
     "data": {
      "text/html": [
       "<div>\n",
       "<style scoped>\n",
       "    .dataframe tbody tr th:only-of-type {\n",
       "        vertical-align: middle;\n",
       "    }\n",
       "\n",
       "    .dataframe tbody tr th {\n",
       "        vertical-align: top;\n",
       "    }\n",
       "\n",
       "    .dataframe thead th {\n",
       "        text-align: right;\n",
       "    }\n",
       "</style>\n",
       "<table border=\"1\" class=\"dataframe\">\n",
       "  <thead>\n",
       "    <tr style=\"text-align: right;\">\n",
       "      <th></th>\n",
       "      <th>Id</th>\n",
       "      <th>UserName</th>\n",
       "      <th>DisplayName</th>\n",
       "      <th>RegisterDate</th>\n",
       "      <th>PerformanceTier</th>\n",
       "    </tr>\n",
       "  </thead>\n",
       "  <tbody>\n",
       "    <tr>\n",
       "      <th>0</th>\n",
       "      <td>1</td>\n",
       "      <td>kaggleteam</td>\n",
       "      <td>Kaggle Team</td>\n",
       "      <td>03/24/2011</td>\n",
       "      <td>5</td>\n",
       "    </tr>\n",
       "    <tr>\n",
       "      <th>1</th>\n",
       "      <td>368</td>\n",
       "      <td>antgoldbloom</td>\n",
       "      <td>Anthony Goldbloom</td>\n",
       "      <td>01/20/2010</td>\n",
       "      <td>5</td>\n",
       "    </tr>\n",
       "    <tr>\n",
       "      <th>2</th>\n",
       "      <td>381</td>\n",
       "      <td>iguyon</td>\n",
       "      <td>Isabelle</td>\n",
       "      <td>01/29/2010</td>\n",
       "      <td>2</td>\n",
       "    </tr>\n",
       "    <tr>\n",
       "      <th>3</th>\n",
       "      <td>383</td>\n",
       "      <td>davidstephan</td>\n",
       "      <td>David Stephan</td>\n",
       "      <td>02/01/2010</td>\n",
       "      <td>0</td>\n",
       "    </tr>\n",
       "    <tr>\n",
       "      <th>4</th>\n",
       "      <td>384</td>\n",
       "      <td>gabewarren</td>\n",
       "      <td>Gabe Warren</td>\n",
       "      <td>02/02/2010</td>\n",
       "      <td>0</td>\n",
       "    </tr>\n",
       "  </tbody>\n",
       "</table>\n",
       "</div>"
      ],
      "text/plain": [
       "    Id      UserName        DisplayName RegisterDate  PerformanceTier\n",
       "0    1    kaggleteam        Kaggle Team   03/24/2011                5\n",
       "1  368  antgoldbloom  Anthony Goldbloom   01/20/2010                5\n",
       "2  381        iguyon           Isabelle   01/29/2010                2\n",
       "3  383  davidstephan      David Stephan   02/01/2010                0\n",
       "4  384    gabewarren        Gabe Warren   02/02/2010                0"
      ]
     },
     "execution_count": 2,
     "metadata": {},
     "output_type": "execute_result"
    }
   ],
   "source": [
    "df = pd.read_csv(\"Users.csv\")\n",
    "df.head()"
   ]
  },
  {
   "cell_type": "code",
   "execution_count": 3,
   "metadata": {},
   "outputs": [
    {
     "data": {
      "text/plain": [
       "(10000, 5)"
      ]
     },
     "execution_count": 3,
     "metadata": {},
     "output_type": "execute_result"
    }
   ],
   "source": [
    "sample_df = df.sample(n=10000)\n",
    "sample_df.shape"
   ]
  },
  {
   "cell_type": "code",
   "execution_count": 6,
   "metadata": {},
   "outputs": [
    {
     "data": {
      "text/plain": [
       "Id                 0\n",
       "UserName           0\n",
       "DisplayName        0\n",
       "RegisterDate       0\n",
       "PerformanceTier    0\n",
       "dtype: int64"
      ]
     },
     "execution_count": 6,
     "metadata": {},
     "output_type": "execute_result"
    }
   ],
   "source": [
    "sample_df.isnull().sum()"
   ]
  },
  {
   "cell_type": "code",
   "execution_count": 10,
   "metadata": {},
   "outputs": [
    {
     "data": {
      "text/plain": [
       "array(['jhovey1', 'jsheppard95', 'dudihgustian', 'khmx5200',\n",
       "       'skshivamkedia'], dtype=object)"
      ]
     },
     "execution_count": 10,
     "metadata": {},
     "output_type": "execute_result"
    }
   ],
   "source": [
    "user_list = sample_df['UserName'].to_numpy(copy=True)\n",
    "user_list[:5]"
   ]
  },
  {
   "cell_type": "code",
   "execution_count": 9,
   "metadata": {},
   "outputs": [
    {
     "ename": "RuntimeError",
     "evalue": "asyncio.run() cannot be called from a running event loop",
     "output_type": "error",
     "traceback": [
      "\u001b[1;31m---------------------------------------------------------------------------\u001b[0m",
      "\u001b[1;31mRuntimeError\u001b[0m                              Traceback (most recent call last)",
      "\u001b[1;32m<ipython-input-9-9e24353d0919>\u001b[0m in \u001b[0;36m<module>\u001b[1;34m\u001b[0m\n\u001b[0;32m      1\u001b[0m \u001b[0mstart_time\u001b[0m \u001b[1;33m=\u001b[0m \u001b[0mtime\u001b[0m\u001b[1;33m.\u001b[0m\u001b[0mtime\u001b[0m\u001b[1;33m(\u001b[0m\u001b[1;33m)\u001b[0m\u001b[1;33m\u001b[0m\u001b[1;33m\u001b[0m\u001b[0m\n\u001b[1;32m----> 2\u001b[1;33m \u001b[0masyncio\u001b[0m\u001b[1;33m.\u001b[0m\u001b[0mrun\u001b[0m\u001b[1;33m(\u001b[0m\u001b[0mget_country_wrapper\u001b[0m\u001b[1;33m(\u001b[0m\u001b[0muser_list\u001b[0m\u001b[1;33m[\u001b[0m\u001b[1;33m:\u001b[0m\u001b[1;36m5\u001b[0m\u001b[1;33m]\u001b[0m\u001b[1;33m)\u001b[0m\u001b[1;33m)\u001b[0m\u001b[1;33m\u001b[0m\u001b[1;33m\u001b[0m\u001b[0m\n\u001b[0m\u001b[0;32m      3\u001b[0m \u001b[0mprint\u001b[0m\u001b[1;33m(\u001b[0m\u001b[1;34m\"--- %s seconds ---\"\u001b[0m \u001b[1;33m%\u001b[0m \u001b[1;33m(\u001b[0m\u001b[0mtime\u001b[0m\u001b[1;33m.\u001b[0m\u001b[0mtime\u001b[0m\u001b[1;33m(\u001b[0m\u001b[1;33m)\u001b[0m \u001b[1;33m-\u001b[0m \u001b[0mstart_time\u001b[0m\u001b[1;33m)\u001b[0m\u001b[1;33m)\u001b[0m\u001b[1;33m\u001b[0m\u001b[1;33m\u001b[0m\u001b[0m\n",
      "\u001b[1;32m~\\Anaconda3\\lib\\asyncio\\runners.py\u001b[0m in \u001b[0;36mrun\u001b[1;34m(main, debug)\u001b[0m\n\u001b[0;32m     31\u001b[0m     \"\"\"\n\u001b[0;32m     32\u001b[0m     \u001b[1;32mif\u001b[0m \u001b[0mevents\u001b[0m\u001b[1;33m.\u001b[0m\u001b[0m_get_running_loop\u001b[0m\u001b[1;33m(\u001b[0m\u001b[1;33m)\u001b[0m \u001b[1;32mis\u001b[0m \u001b[1;32mnot\u001b[0m \u001b[1;32mNone\u001b[0m\u001b[1;33m:\u001b[0m\u001b[1;33m\u001b[0m\u001b[1;33m\u001b[0m\u001b[0m\n\u001b[1;32m---> 33\u001b[1;33m         raise RuntimeError(\n\u001b[0m\u001b[0;32m     34\u001b[0m             \"asyncio.run() cannot be called from a running event loop\")\n\u001b[0;32m     35\u001b[0m \u001b[1;33m\u001b[0m\u001b[0m\n",
      "\u001b[1;31mRuntimeError\u001b[0m: asyncio.run() cannot be called from a running event loop"
     ]
    }
   ],
   "source": [
    "start_time = time.time()\n",
    "asyncio.run(get_country_wrapper(user_list[:5]))\n",
    "print(\"--- %s seconds ---\" % (time.time() - start_time))"
   ]
  },
  {
   "cell_type": "code",
   "execution_count": 1,
   "metadata": {},
   "outputs": [],
   "source": [
    "import requests\n",
    "import json"
   ]
  },
  {
   "cell_type": "code",
   "execution_count": 2,
   "metadata": {},
   "outputs": [
    {
     "name": "stdout",
     "output_type": "stream",
     "text": [
      "200\n",
      "text/html; charset=utf-8\n"
     ]
    },
    {
     "ename": "JSONDecodeError",
     "evalue": "Expecting value: line 1 column 1 (char 0)",
     "output_type": "error",
     "traceback": [
      "\u001b[1;31m---------------------------------------------------------------------------\u001b[0m",
      "\u001b[1;31mJSONDecodeError\u001b[0m                           Traceback (most recent call last)",
      "\u001b[1;32m<ipython-input-2-d7c85196032f>\u001b[0m in \u001b[0;36m<module>\u001b[1;34m\u001b[0m\n\u001b[0;32m      7\u001b[0m \u001b[0mprint\u001b[0m\u001b[1;33m(\u001b[0m\u001b[0mr\u001b[0m\u001b[1;33m.\u001b[0m\u001b[0mstatus_code\u001b[0m\u001b[1;33m)\u001b[0m\u001b[1;33m\u001b[0m\u001b[1;33m\u001b[0m\u001b[0m\n\u001b[0;32m      8\u001b[0m \u001b[0mprint\u001b[0m\u001b[1;33m(\u001b[0m\u001b[0mr\u001b[0m\u001b[1;33m.\u001b[0m\u001b[0mheaders\u001b[0m\u001b[1;33m[\u001b[0m\u001b[1;34m\"content-type\"\u001b[0m\u001b[1;33m]\u001b[0m\u001b[1;33m)\u001b[0m\u001b[1;33m\u001b[0m\u001b[1;33m\u001b[0m\u001b[0m\n\u001b[1;32m----> 9\u001b[1;33m \u001b[0mprint\u001b[0m\u001b[1;33m(\u001b[0m\u001b[0mr\u001b[0m\u001b[1;33m.\u001b[0m\u001b[0mjson\u001b[0m\u001b[1;33m(\u001b[0m\u001b[1;33m)\u001b[0m\u001b[1;33m)\u001b[0m\u001b[1;33m\u001b[0m\u001b[1;33m\u001b[0m\u001b[0m\n\u001b[0m",
      "\u001b[1;32m~\\Anaconda3\\lib\\site-packages\\requests\\models.py\u001b[0m in \u001b[0;36mjson\u001b[1;34m(self, **kwargs)\u001b[0m\n\u001b[0;32m    898\u001b[0m                     \u001b[1;31m# used.\u001b[0m\u001b[1;33m\u001b[0m\u001b[1;33m\u001b[0m\u001b[1;33m\u001b[0m\u001b[0m\n\u001b[0;32m    899\u001b[0m                     \u001b[1;32mpass\u001b[0m\u001b[1;33m\u001b[0m\u001b[1;33m\u001b[0m\u001b[0m\n\u001b[1;32m--> 900\u001b[1;33m         \u001b[1;32mreturn\u001b[0m \u001b[0mcomplexjson\u001b[0m\u001b[1;33m.\u001b[0m\u001b[0mloads\u001b[0m\u001b[1;33m(\u001b[0m\u001b[0mself\u001b[0m\u001b[1;33m.\u001b[0m\u001b[0mtext\u001b[0m\u001b[1;33m,\u001b[0m \u001b[1;33m**\u001b[0m\u001b[0mkwargs\u001b[0m\u001b[1;33m)\u001b[0m\u001b[1;33m\u001b[0m\u001b[1;33m\u001b[0m\u001b[0m\n\u001b[0m\u001b[0;32m    901\u001b[0m \u001b[1;33m\u001b[0m\u001b[0m\n\u001b[0;32m    902\u001b[0m     \u001b[1;33m@\u001b[0m\u001b[0mproperty\u001b[0m\u001b[1;33m\u001b[0m\u001b[1;33m\u001b[0m\u001b[0m\n",
      "\u001b[1;32m~\\Anaconda3\\lib\\json\\__init__.py\u001b[0m in \u001b[0;36mloads\u001b[1;34m(s, cls, object_hook, parse_float, parse_int, parse_constant, object_pairs_hook, **kw)\u001b[0m\n\u001b[0;32m    355\u001b[0m             \u001b[0mparse_int\u001b[0m \u001b[1;32mis\u001b[0m \u001b[1;32mNone\u001b[0m \u001b[1;32mand\u001b[0m \u001b[0mparse_float\u001b[0m \u001b[1;32mis\u001b[0m \u001b[1;32mNone\u001b[0m \u001b[1;32mand\u001b[0m\u001b[1;33m\u001b[0m\u001b[1;33m\u001b[0m\u001b[0m\n\u001b[0;32m    356\u001b[0m             parse_constant is None and object_pairs_hook is None and not kw):\n\u001b[1;32m--> 357\u001b[1;33m         \u001b[1;32mreturn\u001b[0m \u001b[0m_default_decoder\u001b[0m\u001b[1;33m.\u001b[0m\u001b[0mdecode\u001b[0m\u001b[1;33m(\u001b[0m\u001b[0ms\u001b[0m\u001b[1;33m)\u001b[0m\u001b[1;33m\u001b[0m\u001b[1;33m\u001b[0m\u001b[0m\n\u001b[0m\u001b[0;32m    358\u001b[0m     \u001b[1;32mif\u001b[0m \u001b[0mcls\u001b[0m \u001b[1;32mis\u001b[0m \u001b[1;32mNone\u001b[0m\u001b[1;33m:\u001b[0m\u001b[1;33m\u001b[0m\u001b[1;33m\u001b[0m\u001b[0m\n\u001b[0;32m    359\u001b[0m         \u001b[0mcls\u001b[0m \u001b[1;33m=\u001b[0m \u001b[0mJSONDecoder\u001b[0m\u001b[1;33m\u001b[0m\u001b[1;33m\u001b[0m\u001b[0m\n",
      "\u001b[1;32m~\\Anaconda3\\lib\\json\\decoder.py\u001b[0m in \u001b[0;36mdecode\u001b[1;34m(self, s, _w)\u001b[0m\n\u001b[0;32m    335\u001b[0m \u001b[1;33m\u001b[0m\u001b[0m\n\u001b[0;32m    336\u001b[0m         \"\"\"\n\u001b[1;32m--> 337\u001b[1;33m         \u001b[0mobj\u001b[0m\u001b[1;33m,\u001b[0m \u001b[0mend\u001b[0m \u001b[1;33m=\u001b[0m \u001b[0mself\u001b[0m\u001b[1;33m.\u001b[0m\u001b[0mraw_decode\u001b[0m\u001b[1;33m(\u001b[0m\u001b[0ms\u001b[0m\u001b[1;33m,\u001b[0m \u001b[0midx\u001b[0m\u001b[1;33m=\u001b[0m\u001b[0m_w\u001b[0m\u001b[1;33m(\u001b[0m\u001b[0ms\u001b[0m\u001b[1;33m,\u001b[0m \u001b[1;36m0\u001b[0m\u001b[1;33m)\u001b[0m\u001b[1;33m.\u001b[0m\u001b[0mend\u001b[0m\u001b[1;33m(\u001b[0m\u001b[1;33m)\u001b[0m\u001b[1;33m)\u001b[0m\u001b[1;33m\u001b[0m\u001b[1;33m\u001b[0m\u001b[0m\n\u001b[0m\u001b[0;32m    338\u001b[0m         \u001b[0mend\u001b[0m \u001b[1;33m=\u001b[0m \u001b[0m_w\u001b[0m\u001b[1;33m(\u001b[0m\u001b[0ms\u001b[0m\u001b[1;33m,\u001b[0m \u001b[0mend\u001b[0m\u001b[1;33m)\u001b[0m\u001b[1;33m.\u001b[0m\u001b[0mend\u001b[0m\u001b[1;33m(\u001b[0m\u001b[1;33m)\u001b[0m\u001b[1;33m\u001b[0m\u001b[1;33m\u001b[0m\u001b[0m\n\u001b[0;32m    339\u001b[0m         \u001b[1;32mif\u001b[0m \u001b[0mend\u001b[0m \u001b[1;33m!=\u001b[0m \u001b[0mlen\u001b[0m\u001b[1;33m(\u001b[0m\u001b[0ms\u001b[0m\u001b[1;33m)\u001b[0m\u001b[1;33m:\u001b[0m\u001b[1;33m\u001b[0m\u001b[1;33m\u001b[0m\u001b[0m\n",
      "\u001b[1;32m~\\Anaconda3\\lib\\json\\decoder.py\u001b[0m in \u001b[0;36mraw_decode\u001b[1;34m(self, s, idx)\u001b[0m\n\u001b[0;32m    353\u001b[0m             \u001b[0mobj\u001b[0m\u001b[1;33m,\u001b[0m \u001b[0mend\u001b[0m \u001b[1;33m=\u001b[0m \u001b[0mself\u001b[0m\u001b[1;33m.\u001b[0m\u001b[0mscan_once\u001b[0m\u001b[1;33m(\u001b[0m\u001b[0ms\u001b[0m\u001b[1;33m,\u001b[0m \u001b[0midx\u001b[0m\u001b[1;33m)\u001b[0m\u001b[1;33m\u001b[0m\u001b[1;33m\u001b[0m\u001b[0m\n\u001b[0;32m    354\u001b[0m         \u001b[1;32mexcept\u001b[0m \u001b[0mStopIteration\u001b[0m \u001b[1;32mas\u001b[0m \u001b[0merr\u001b[0m\u001b[1;33m:\u001b[0m\u001b[1;33m\u001b[0m\u001b[1;33m\u001b[0m\u001b[0m\n\u001b[1;32m--> 355\u001b[1;33m             \u001b[1;32mraise\u001b[0m \u001b[0mJSONDecodeError\u001b[0m\u001b[1;33m(\u001b[0m\u001b[1;34m\"Expecting value\"\u001b[0m\u001b[1;33m,\u001b[0m \u001b[0ms\u001b[0m\u001b[1;33m,\u001b[0m \u001b[0merr\u001b[0m\u001b[1;33m.\u001b[0m\u001b[0mvalue\u001b[0m\u001b[1;33m)\u001b[0m \u001b[1;32mfrom\u001b[0m \u001b[1;32mNone\u001b[0m\u001b[1;33m\u001b[0m\u001b[1;33m\u001b[0m\u001b[0m\n\u001b[0m\u001b[0;32m    356\u001b[0m         \u001b[1;32mreturn\u001b[0m \u001b[0mobj\u001b[0m\u001b[1;33m,\u001b[0m \u001b[0mend\u001b[0m\u001b[1;33m\u001b[0m\u001b[1;33m\u001b[0m\u001b[0m\n",
      "\u001b[1;31mJSONDecodeError\u001b[0m: Expecting value: line 1 column 1 (char 0)"
     ]
    }
   ],
   "source": [
    "username = 'jhovey1'\n",
    "base_url = 'https://www.kaggle.com/'\n",
    "url = base_url+str(username)\n",
    "\n",
    "r = requests.get(url, headers={'accept': 'application/json'})\n",
    "# r = requests.get(url)\n",
    "print(r.status_code)\n",
    "print(r.headers[\"content-type\"])\n",
    "print(r.json())\n"
   ]
  },
  {
   "cell_type": "code",
   "execution_count": 3,
   "metadata": {},
   "outputs": [],
   "source": [
    "import xmltojson"
   ]
  },
  {
   "cell_type": "code",
   "execution_count": 4,
   "metadata": {},
   "outputs": [
    {
     "name": "stdout",
     "output_type": "stream",
     "text": [
      "404\n",
      "text/html; charset=utf-8\n"
     ]
    },
    {
     "ename": "ExpatError",
     "evalue": "not well-formed (invalid token): line 22, column 70",
     "output_type": "error",
     "traceback": [
      "\u001b[1;31m---------------------------------------------------------------------------\u001b[0m",
      "\u001b[1;31mExpatError\u001b[0m                                Traceback (most recent call last)",
      "\u001b[1;32m<ipython-input-4-baebd449c4ca>\u001b[0m in \u001b[0;36m<module>\u001b[1;34m\u001b[0m\n\u001b[0;32m      7\u001b[0m \u001b[0mprint\u001b[0m\u001b[1;33m(\u001b[0m\u001b[0mr\u001b[0m\u001b[1;33m.\u001b[0m\u001b[0mstatus_code\u001b[0m\u001b[1;33m)\u001b[0m\u001b[1;33m\u001b[0m\u001b[1;33m\u001b[0m\u001b[0m\n\u001b[0;32m      8\u001b[0m \u001b[0mprint\u001b[0m\u001b[1;33m(\u001b[0m\u001b[0mr\u001b[0m\u001b[1;33m.\u001b[0m\u001b[0mheaders\u001b[0m\u001b[1;33m[\u001b[0m\u001b[1;34m\"content-type\"\u001b[0m\u001b[1;33m]\u001b[0m\u001b[1;33m)\u001b[0m\u001b[1;33m\u001b[0m\u001b[1;33m\u001b[0m\u001b[0m\n\u001b[1;32m----> 9\u001b[1;33m \u001b[0mjson_\u001b[0m \u001b[1;33m=\u001b[0m \u001b[0mxmltojson\u001b[0m\u001b[1;33m.\u001b[0m\u001b[0mparse\u001b[0m\u001b[1;33m(\u001b[0m\u001b[0mr\u001b[0m\u001b[1;33m.\u001b[0m\u001b[0mtext\u001b[0m\u001b[1;33m)\u001b[0m\u001b[1;33m\u001b[0m\u001b[1;33m\u001b[0m\u001b[0m\n\u001b[0m",
      "\u001b[1;32m~\\Anaconda3\\lib\\site-packages\\xmltojson.py\u001b[0m in \u001b[0;36mparse\u001b[1;34m(xml_string)\u001b[0m\n\u001b[0;32m     83\u001b[0m     \u001b[0mTakes\u001b[0m \u001b[0man\u001b[0m \u001b[0mxml\u001b[0m \u001b[0mstring\u001b[0m \u001b[1;32mand\u001b[0m \u001b[0mreturns\u001b[0m \u001b[0mthe\u001b[0m \u001b[0mjson\u001b[0m \u001b[0mequivalent\u001b[0m\u001b[1;33m\u001b[0m\u001b[1;33m\u001b[0m\u001b[0m\n\u001b[0;32m     84\u001b[0m     \"\"\"\n\u001b[1;32m---> 85\u001b[1;33m     \u001b[1;32mreturn\u001b[0m \u001b[0mjson\u001b[0m\u001b[1;33m.\u001b[0m\u001b[0mdumps\u001b[0m\u001b[1;33m(\u001b[0m\u001b[0mxmltodict\u001b[0m\u001b[1;33m.\u001b[0m\u001b[0mparse\u001b[0m\u001b[1;33m(\u001b[0m\u001b[0mxml_string\u001b[0m\u001b[1;33m)\u001b[0m\u001b[1;33m)\u001b[0m\u001b[1;33m\u001b[0m\u001b[1;33m\u001b[0m\u001b[0m\n\u001b[0m\u001b[0;32m     86\u001b[0m \u001b[1;33m\u001b[0m\u001b[0m\n",
      "\u001b[1;32m~\\Anaconda3\\lib\\site-packages\\xmltodict.py\u001b[0m in \u001b[0;36mparse\u001b[1;34m(xml_input, encoding, expat, process_namespaces, namespace_separator, disable_entities, **kwargs)\u001b[0m\n\u001b[0;32m    325\u001b[0m         \u001b[0mparser\u001b[0m\u001b[1;33m.\u001b[0m\u001b[0mParseFile\u001b[0m\u001b[1;33m(\u001b[0m\u001b[0mxml_input\u001b[0m\u001b[1;33m)\u001b[0m\u001b[1;33m\u001b[0m\u001b[1;33m\u001b[0m\u001b[0m\n\u001b[0;32m    326\u001b[0m     \u001b[1;32melse\u001b[0m\u001b[1;33m:\u001b[0m\u001b[1;33m\u001b[0m\u001b[1;33m\u001b[0m\u001b[0m\n\u001b[1;32m--> 327\u001b[1;33m         \u001b[0mparser\u001b[0m\u001b[1;33m.\u001b[0m\u001b[0mParse\u001b[0m\u001b[1;33m(\u001b[0m\u001b[0mxml_input\u001b[0m\u001b[1;33m,\u001b[0m \u001b[1;32mTrue\u001b[0m\u001b[1;33m)\u001b[0m\u001b[1;33m\u001b[0m\u001b[1;33m\u001b[0m\u001b[0m\n\u001b[0m\u001b[0;32m    328\u001b[0m     \u001b[1;32mreturn\u001b[0m \u001b[0mhandler\u001b[0m\u001b[1;33m.\u001b[0m\u001b[0mitem\u001b[0m\u001b[1;33m\u001b[0m\u001b[1;33m\u001b[0m\u001b[0m\n\u001b[0;32m    329\u001b[0m \u001b[1;33m\u001b[0m\u001b[0m\n",
      "\u001b[1;31mExpatError\u001b[0m: not well-formed (invalid token): line 22, column 70"
     ]
    }
   ],
   "source": [
    "username = 'gayanvgt'\n",
    "base_url = 'https://www.kaggle.com/'\n",
    "url = base_url+str(username)\n",
    "\n",
    "r = requests.get(url, headers={'accept': 'application/json'})\n",
    "# r = requests.get(url)\n",
    "print(r.status_code)\n",
    "print(r.headers[\"content-type\"])\n",
    "json_ = xmltojson.parse(r.text)"
   ]
  },
  {
   "cell_type": "code",
   "execution_count": 12,
   "metadata": {},
   "outputs": [],
   "source": [
    "import json\n",
    "import xmltodict\n",
    "import xml.etree.ElementTree as ET"
   ]
  },
  {
   "cell_type": "code",
   "execution_count": 17,
   "metadata": {},
   "outputs": [
    {
     "name": "stdout",
     "output_type": "stream",
     "text": [
      "200\n",
      "text/html; charset=utf-8\n"
     ]
    },
    {
     "ename": "ParseError",
     "evalue": "not well-formed (invalid token): line 43, column 70 (<string>)",
     "output_type": "error",
     "traceback": [
      "Traceback \u001b[1;36m(most recent call last)\u001b[0m:\n",
      "  File \u001b[0;32m\"C:\\Users\\gayan\\Anaconda3\\lib\\site-packages\\IPython\\core\\interactiveshell.py\"\u001b[0m, line \u001b[0;32m3437\u001b[0m, in \u001b[0;35mrun_code\u001b[0m\n    exec(code_obj, self.user_global_ns, self.user_ns)\n",
      "  File \u001b[0;32m\"<ipython-input-17-6eb7e5a7f850>\"\u001b[0m, line \u001b[0;32m20\u001b[0m, in \u001b[0;35m<module>\u001b[0m\n    tree = ET.parse(\"html_response.html\")\n",
      "  File \u001b[0;32m\"C:\\Users\\gayan\\Anaconda3\\lib\\xml\\etree\\ElementTree.py\"\u001b[0m, line \u001b[0;32m1202\u001b[0m, in \u001b[0;35mparse\u001b[0m\n    tree.parse(source, parser)\n",
      "\u001b[1;36m  File \u001b[1;32m\"C:\\Users\\gayan\\Anaconda3\\lib\\xml\\etree\\ElementTree.py\"\u001b[1;36m, line \u001b[1;32m595\u001b[1;36m, in \u001b[1;35mparse\u001b[1;36m\u001b[0m\n\u001b[1;33m    self._root = parser._parse_whole(source)\u001b[0m\n",
      "\u001b[1;36m  File \u001b[1;32m\"<string>\"\u001b[1;36m, line \u001b[1;32munknown\u001b[0m\n\u001b[1;31mParseError\u001b[0m\u001b[1;31m:\u001b[0m not well-formed (invalid token): line 43, column 70\n"
     ]
    }
   ],
   "source": [
    "username = 'vgtgayan'\n",
    "base_url = 'https://www.kaggle.com/'\n",
    "url = base_url+str(username)\n",
    "\n",
    "r = requests.get(url, headers={'accept': 'application/json'})\n",
    "# r = requests.get(url)\n",
    "print(r.status_code)\n",
    "print(r.headers[\"content-type\"])\n",
    "# print(r.text) # Return a html with the context in the page (scripts not expanded - less information)\n",
    "# print(r.content)  # Return a byte string with all the context in the page (scripts expanded)\n",
    "\n",
    "with open(\"html_response.html\", 'w') as fp:\n",
    "    fp.write(r.text)\n",
    "\n",
    "# with open(\"html_response.html\", 'r') as fp:\n",
    "#     html_text = fp.readlines()\n",
    "\n",
    "# print(html_text)\n",
    "\n",
    "tree = ET.parse(\"html_response.html\")\n",
    "xml_data = tree.getroot()\n",
    "#here you can change the encoding type to be able to set it to the one you need\n",
    "xmlstr = ET.tostring(xml_data, encoding='utf-8', method='xml')\n",
    "\n",
    "data_dict = dict(xmltodict.parse(xmlstr))\n",
    "print(json.dumps(data_dict, indent=2))\n"
   ]
  },
  {
   "cell_type": "code",
   "execution_count": 18,
   "metadata": {},
   "outputs": [
    {
     "name": "stdout",
     "output_type": "stream",
     "text": [
      "Collecting html-to-jsonNote: you may need to restart the kernel to use updated packages.\n",
      "  Downloading html_to_json-2.0.0-py2.py3-none-any.whl (6.4 kB)\n",
      "Requirement already satisfied: bs4 in c:\\users\\gayan\\anaconda3\\lib\\site-packages (from html-to-json) (0.0.1)\n",
      "Requirement already satisfied: beautifulsoup4 in c:\\users\\gayan\\anaconda3\\lib\\site-packages (from bs4->html-to-json) (4.9.3)\n",
      "Requirement already satisfied: soupsieve>1.2 in c:\\users\\gayan\\anaconda3\\lib\\site-packages (from beautifulsoup4->bs4->html-to-json) (2.2.1)\n",
      "Installing collected packages: html-to-json\n",
      "Successfully installed html-to-json-2.0.0\n",
      "\n"
     ]
    }
   ],
   "source": [
    "%pip install html-to-json"
   ]
  },
  {
   "cell_type": "code",
   "execution_count": 19,
   "metadata": {},
   "outputs": [],
   "source": [
    "import requests\n",
    "import json\n",
    "from bs4 import BeautifulSoup\n",
    "import html_to_json"
   ]
  },
  {
   "cell_type": "code",
   "execution_count": null,
   "metadata": {},
   "outputs": [],
   "source": [
    "\n",
    "\n",
    "username = 'vgtgayan'\n",
    "base_url = 'https://www.kaggle.com/'\n",
    "url = base_url+str(username)\n",
    "\n",
    "r = requests.get(url)\n",
    "print(r.status_code)\n",
    "\n",
    "html_string = r.text\n",
    "output_json = html_to_json.convert(html_string)\n",
    "print(output_json)"
   ]
  },
  {
   "cell_type": "code",
   "execution_count": 50,
   "metadata": {},
   "outputs": [
    {
     "name": "stdout",
     "output_type": "stream",
     "text": [
      "{'_attributes': {'class': ['kaggle-component'], 'nonce': 'yX7UzaO18P/Fx1267SlLIQ=='}, '_value': 'var Kaggle=window.Kaggle||{};Kaggle.State=Kaggle.State||[];Kaggle.State.push({\"userId\":8257495,\"displayName\":\"V.G.T. Gayan\",\"country\":\"Sri Lanka\",\"region\":\"Western Province\",\"city\":\"Colombo\",\"gitHubUserName\":null,\"twitterUserName\":null,\"linkedInUrl\":null,\"websiteUrl\":null,\"occupation\":\"Research \\\\u0026 Development Engineer\",\"organization\":\"Synopsys Inc\",\"bio\":null,\"userLastActive\":\"2022-01-10T07:22:43.707Z\",\"userJoinDate\":\"2021-09-01T11:53:55.643Z\",\"performanceTier\":\"novice\",\"performanceTierCategory\":\"competitions\",\"activePaneTier\":\"novice\",\"activePaneCategory\":\"unspecified\",\"userUrl\":\"/vgtgayan\",\"userAvatarUrl\":\"https://storage.googleapis.com/kaggle-avatars/images/default-thumb.png\",\"email\":null,\"canEdit\":false,\"canCreateDatasets\":true,\"userName\":\"vgtgayan\",\"activePane\":\"home\",\"totalDatasets\":0,\"totalOrganizations\":0,\"competitionsSummary\":{\"tier\":\"novice\",\"totalResults\":0,\"rankPercentage\":0.97284544,\"rankOutOf\":172531,\"rankCurrent\":null,\"rankHighest\":null,\"totalGoldMedals\":0,\"totalSilverMedals\":0,\"totalBronzeMedals\":0,\"highlights\":[],\"summaryType\":\"competitions\"},\"scriptsSummary\":{\"tier\":\"novice\",\"totalResults\":1,\"rankPercentage\":0.155155,\"rankOutOf\":203055,\"rankCurrent\":null,\"rankHighest\":null,\"totalGoldMedals\":0,\"totalSilverMedals\":0,\"totalBronzeMedals\":0,\"highlights\":[],\"summaryType\":\"notebooks\"},\"discussionsSummary\":{\"tier\":\"novice\",\"totalResults\":0,\"rankPercentage\":0.115228504,\"rankOutOf\":266323,\"rankCurrent\":null,\"rankHighest\":null,\"totalGoldMedals\":0,\"totalSilverMedals\":0,\"totalBronzeMedals\":0,\"highlights\":[],\"summaryType\":\"discussion\"},\"datasetsSummary\":{\"tier\":\"novice\",\"totalResults\":0,\"rankPercentage\":0.13840061,\"rankOutOf\":53533,\"rankCurrent\":null,\"rankHighest\":null,\"totalGoldMedals\":0,\"totalSilverMedals\":0,\"totalBronzeMedals\":0,\"highlights\":[],\"summaryType\":\"datasets\"},\"pageMessages\":null,\"followers\":{\"type\":\"following\",\"count\":0,\"list\":[],\"containsSelf\":false,\"maxCountReached\":false},\"following\":{\"type\":\"following\",\"count\":0,\"list\":[],\"containsSelf\":false,\"maxCountReached\":false},\"canSeeFollowers\":false,\"canSeeCallToAction\":true,\"canSeeNotifications\":true,\"canSeeAtMentions\":true,\"totalScripts\":1,\"isAdmin\":false,\"isEditing\":false,\"userAllowsUserMessages\":true,\"@wf\": \"Users.Models.ProfileDtoWireFormat\"});performance && performance.mark && performance.mark(\"ProfileContainerReact.componentCouldBootstrap\");'}\n"
     ]
    }
   ],
   "source": [
    "print(output_json['html'][0]['body'][0]['main'][0]['div'][2]['script'][0])"
   ]
  },
  {
   "cell_type": "code",
   "execution_count": null,
   "metadata": {},
   "outputs": [],
   "source": []
  }
 ],
 "metadata": {
  "interpreter": {
   "hash": "20fe9ac160caa27b484c121bdfff980af9c3868837d39524e09bbd9828f0ae76"
  },
  "kernelspec": {
   "display_name": "Python 3.8.8 64-bit ('base': conda)",
   "language": "python",
   "name": "python3"
  },
  "language_info": {
   "codemirror_mode": {
    "name": "ipython",
    "version": 3
   },
   "file_extension": ".py",
   "mimetype": "text/x-python",
   "name": "python",
   "nbconvert_exporter": "python",
   "pygments_lexer": "ipython3",
   "version": "3.8.8"
  },
  "orig_nbformat": 4
 },
 "nbformat": 4,
 "nbformat_minor": 2
}
