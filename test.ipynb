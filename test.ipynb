{
 "cells": [
  {
   "cell_type": "code",
   "execution_count": 55,
   "metadata": {},
   "outputs": [],
   "source": [
    "import requests\n",
    "import json\n",
    "from bs4 import BeautifulSoup\n",
    "# import xmltodict\n",
    "# import xmltojson\n",
    "# import xml.etree.ElementTree as ET\n",
    "# from requests_html import HTML\n",
    "from requests_html import HTMLSession"
   ]
  },
  {
   "cell_type": "code",
   "execution_count": 67,
   "metadata": {},
   "outputs": [
    {
     "name": "stdout",
     "output_type": "stream",
     "text": [
      "200\n",
      "https://www.kaggle.com/rankings\n",
      "<title>Kaggle Rankings</title>\n",
      "<body data-turbolinks=\"false\">\n",
      "<main>\n",
      "<div id=\"site-container\"></div>\n",
      "<div data-component-name=\"NavigationContainer\" style=\"display: flex; flex-direction: column; flex: 1 0 auto;\"></div><script class=\"kaggle-component\" nonce=\"bw/OVEhF/ekdlx3FU2q2YA==\">var Kaggle=window.Kaggle||{};Kaggle.State=Kaggle.State||[];Kaggle.State.push({\"navigationType\":\"BOTH_NAV\"});performance && performance.mark && performance.mark(\"NavigationContainer.componentCouldBootstrap\");</script>\n",
      "<div class=\"hide\" id=\"site-body\">\n",
      "<div data-component-name=\"Leaderboards\" style=\"display: flex; flex-direction: column; flex: 1 0 auto;\"></div><script class=\"kaggle-component\" nonce=\"bw/OVEhF/ekdlx3FU2q2YA==\">var Kaggle=window.Kaggle||{};Kaggle.State=Kaggle.State||[];Kaggle.State.push({\"group\":\"competitions\",\"userRanking\":null,\"totalUsers\":0,\"counts\":[{\"tier\":\"grandmaster\",\"count\":242},{\"tier\":\"master\",\"count\":1676},{\"tier\":\"expert\",\"count\":7257},{\"tier\":\"contributor\",\"count\":65159},{\"tier\":\"novice\",\"count\":92959}],\"list\":[{\"currentRanking\":1,\"displayName\":\"Dieter\",\"thumbnailUrl\":\"https://storage.googleapis.com/kaggle-avatars/thumbnails/1424766-kg.png\",\"userId\":1424766,\"userUrl\":\"/christofhenkel\",\"tier\":\"grandmaster\",\"points\":289229.0,\"joinTime\":\"2017-11-17T06:39:22.317Z\",\"totalGoldMedals\":26,\"totalSilverMedals\":9,\"totalBronzeMedals\":3},{\"currentRanking\":2,\"displayName\":\"bestfitting\",\"thumbnailUrl\":\"https://storage.googleapis.com/kaggle-avatars/thumbnails/708283-kg.jpg\",\"userId\":708283,\"userUrl\":\"/bestfitting\",\"tier\":\"grandmaster\",\"points\":211888.0,\"joinTime\":\"2016-09-07T16:39:04.817Z\",\"totalGoldMedals\":34,\"totalSilverMedals\":10,\"totalBronzeMedals\":1},{\"currentRanking\":3,\"displayName\":\"Psi\",\"thumbnailUrl\":\"https://storage.googleapis.com/kaggle-avatars/thumbnails/37166-kg.png\",\"userId\":37166,\"userUrl\":\"/philippsinger\",\"tier\":\"grandmaster\",\"points\":199810.0,\"joinTime\":\"2012-03-29T14:12:46.277Z\",\"totalGoldMedals\":23,\"totalSilverMedals\":7,\"totalBronzeMedals\":0},{\"currentRanking\":4,\"displayName\":\"Guanshuo Xu\",\"thumbnailUrl\":\"https://storage.googleapis.com/kaggle-avatars/thumbnails/478989-kg.jpeg\",\"userId\":478989,\"userUrl\":\"/wowfattie\",\"tier\":\"grandmaster\",\"points\":178781.0,\"joinTime\":\"2015-12-02T04:40:13.517Z\",\"totalGoldMedals\":22,\"totalSilverMedals\":19,\"totalBronzeMedals\":2},{\"currentRanking\":5,\"displayName\":\"Ilu\",\"thumbnailUrl\":\"https://storage.googleapis.com/kaggle-avatars/thumbnails/2675447-kg.PNG\",\"userId\":2675447,\"userUrl\":\"/ilu000\",\"tier\":\"grandmaster\",\"points\":129019.0,\"joinTime\":\"2019-01-05T19:17:10.167Z\",\"totalGoldMedals\":12,\"totalSilverMedals\":5,\"totalBronzeMedals\":3},{\"currentRanking\":6,\"displayName\":\"Ahmet Erdem\",\"thumbnailUrl\":\"https://storage.googleapis.com/kaggle-avatars/thumbnails/471945-kg.png\",\"userId\":471945,\"userUrl\":\"/aerdem4\",\"tier\":\"grandmaster\",\"points\":122159.0,\"joinTime\":\"2015-11-22T15:08:14.03Z\",\"totalGoldMedals\":19,\"totalSilverMedals\":23,\"totalBronzeMedals\":4},{\"currentRanking\":7,\"displayName\":\"Qishen Ha\",\"thumbnailUrl\":\"https://storage.googleapis.com/kaggle-avatars/thumbnails/448347-kg.jpeg\",\"userId\":448347,\"userUrl\":\"/haqishen\",\"tier\":\"grandmaster\",\"points\":121430.0,\"joinTime\":\"2015-10-22T07:50:34.163Z\",\"totalGoldMedals\":15,\"totalSilverMedals\":8,\"totalBronzeMedals\":2},{\"currentRanking\":8,\"displayName\":\"Μαριος Μιχαηλιδης KazAnova\",\"thumbnailUrl\":\"https://storage.googleapis.com/kaggle-avatars/thumbnails/111640-fb.jpg\",\"userId\":111640,\"userUrl\":\"/kazanova\",\"tier\":\"grandmaster\",\"points\":114601.0,\"joinTime\":\"2013-06-24T19:35:02.9Z\",\"totalGoldMedals\":41,\"totalSilverMedals\":58,\"totalBronzeMedals\":42},{\"currentRanking\":9,\"displayName\":\"Giba\",\"thumbnailUrl\":\"https://storage.googleapis.com/kaggle-avatars/thumbnails/54836-kg.JPG\",\"userId\":54836,\"userUrl\":\"/titericz\",\"tier\":\"grandmaster\",\"points\":103765.0,\"joinTime\":\"2012-08-23T17:26:51.11Z\",\"totalGoldMedals\":58,\"totalSilverMedals\":47,\"totalBronzeMedals\":31},{\"currentRanking\":10,\"displayName\":\"DungNB\",\"thumbnailUrl\":\"https://storage.googleapis.com/kaggle-avatars/thumbnails/1393170-kg.jpg\",\"userId\":1393170,\"userUrl\":\"/nguyenbadung\",\"tier\":\"grandmaster\",\"points\":101174.0,\"joinTime\":\"2017-11-06T05:49:44.577Z\",\"totalGoldMedals\":6,\"totalSilverMedals\":11,\"totalBronzeMedals\":4},{\"currentRanking\":11,\"displayName\":\"dott\",\"thumbnailUrl\":\"https://storage.googleapis.com/kaggle-avatars/thumbnails/85156-gr.jpg\",\"userId\":85156,\"userUrl\":\"/dott1718\",\"tier\":\"grandmaster\",\"points\":98739.0,\"joinTime\":\"2013-02-14T12:25:16.093Z\",\"totalGoldMedals\":13,\"totalSilverMedals\":6,\"totalBronzeMedals\":2},{\"currentRanking\":12,\"displayName\":\"Selim Seferbekov\",\"thumbnailUrl\":\"https://storage.googleapis.com/kaggle-avatars/thumbnails/534152-kg.jpg\",\"userId\":534152,\"userUrl\":\"/selimsef\",\"tier\":\"grandmaster\",\"points\":98730.0,\"joinTime\":\"2016-02-20T12:55:09.263Z\",\"totalGoldMedals\":10,\"totalSilverMedals\":3,\"totalBronzeMedals\":1},{\"currentRanking\":13,\"displayName\":\"Bo\",\"thumbnailUrl\":\"https://storage.googleapis.com/kaggle-avatars/thumbnails/default-thumb.png\",\"userId\":1120704,\"userUrl\":\"/boliu0\",\"tier\":\"grandmaster\",\"points\":97000.0,\"joinTime\":\"2017-06-11T18:32:07.8Z\",\"totalGoldMedals\":15,\"totalSilverMedals\":8,\"totalBronzeMedals\":4},{\"currentRanking\":14,\"displayName\":\"Limerobot\",\"thumbnailUrl\":\"https://storage.googleapis.com/kaggle-avatars/thumbnails/1658108-kg.jpg\",\"userId\":1658108,\"userUrl\":\"/limerobot\",\"tier\":\"grandmaster\",\"points\":95868.0,\"joinTime\":\"2018-02-22T06:14:45.083Z\",\"totalGoldMedals\":11,\"totalSilverMedals\":5,\"totalBronzeMedals\":1},{\"currentRanking\":15,\"displayName\":\"CPMP\",\"thumbnailUrl\":\"https://storage.googleapis.com/kaggle-avatars/thumbnails/75976-gr.jpg\",\"userId\":75976,\"userUrl\":\"/cpmpml\",\"tier\":\"grandmaster\",\"points\":95201.0,\"joinTime\":\"2012-12-16T12:03:05.527Z\",\"totalGoldMedals\":21,\"totalSilverMedals\":21,\"totalBronzeMedals\":4},{\"currentRanking\":16,\"displayName\":\"Chris Deotte\",\"thumbnailUrl\":\"https://storage.googleapis.com/kaggle-avatars/thumbnails/1723677-kg.jpg\",\"userId\":1723677,\"userUrl\":\"/cdeotte\",\"tier\":\"grandmaster\",\"points\":89176.0,\"joinTime\":\"2018-03-14T22:51:30.63Z\",\"totalGoldMedals\":14,\"totalSilverMedals\":12,\"totalBronzeMedals\":8},{\"currentRanking\":17,\"displayName\":\"Bojan Tunguz\",\"thumbnailUrl\":\"https://storage.googleapis.com/kaggle-avatars/thumbnails/417337-fb.jpg\",\"userId\":417337,\"userUrl\":\"/tunguz\",\"tier\":\"grandmaster\",\"points\":84603.0,\"joinTime\":\"2015-09-11T21:32:16.517Z\",\"totalGoldMedals\":9,\"totalSilverMedals\":17,\"totalBronzeMedals\":28},{\"currentRanking\":18,\"displayName\":\"Tom\",\"thumbnailUrl\":\"https://storage.googleapis.com/kaggle-avatars/thumbnails/1565399-kg.png\",\"userId\":1565399,\"userUrl\":\"/tikutiku\",\"tier\":\"master\",\"points\":80349.0,\"joinTime\":\"2018-01-19T14:53:24.917Z\",\"totalGoldMedals\":4,\"totalSilverMedals\":10,\"totalBronzeMedals\":1},{\"currentRanking\":19,\"displayName\":\"tito\",\"thumbnailUrl\":\"https://storage.googleapis.com/kaggle-avatars/thumbnails/548996-fb.jpg\",\"userId\":548996,\"userUrl\":\"/its7171\",\"tier\":\"grandmaster\",\"points\":77725.0,\"joinTime\":\"2016-03-06T06:05:12.253Z\",\"totalGoldMedals\":11,\"totalSilverMedals\":13,\"totalBronzeMedals\":0},{\"currentRanking\":20,\"displayName\":\"Gary\",\"thumbnailUrl\":\"https://storage.googleapis.com/kaggle-avatars/thumbnails/1270655-kg.jpg\",\"userId\":1270655,\"userUrl\":\"/garybios\",\"tier\":\"grandmaster\",\"points\":77388.0,\"joinTime\":\"2017-09-16T06:45:04.867Z\",\"totalGoldMedals\":12,\"totalSilverMedals\":11,\"totalBronzeMedals\":0}],\"@wf\": \"Users.UserRankingsWireFormat\"});performance && performance.mark && performance.mark(\"Leaderboards.componentCouldBootstrap\");</script>\n",
      "</div>\n",
      "</main>\n",
      "</body>\n"
     ]
    }
   ],
   "source": [
    "page_number = '1'\n",
    "url = 'https://www.kaggle.com/users?page='+page_number\n",
    "# url = 'https://geeksforgeeks-example.surge.sh'\n",
    "# url = 'https://lichess.org/'\n",
    "# print(url)\n",
    "\n",
    "# r = requests.get(url, headers={'accept': 'application/json'})\n",
    "r = requests.get(url)\n",
    "print(r.status_code)\n",
    "print(r.url)\n",
    "html_text = r.text\n",
    "# print(html_text)\n",
    "# print(json.loads(html_text))\n",
    "# print(r.headers)\n",
    "# print(r.content)\n",
    "\n",
    "\n",
    "soup = BeautifulSoup(html_text, 'html.parser')\n",
    "print(soup.title)\n",
    "# print(soup.get_text())\n",
    "# print(soup.find_all(\"link\", href=True))\n",
    "# body_text = soup.find(\"body\")\n",
    "# print(body_text.find(\"div\", class_=\"leaderboards__name\"))\n",
    "print(str(soup.body))"
   ]
  },
  {
   "cell_type": "code",
   "execution_count": null,
   "metadata": {},
   "outputs": [],
   "source": [
    "base_url = 'https://www.kaggle.com/'\n",
    "username = 'iguyon'\n",
    "url = base_url+username\n",
    "r = requests.get(url)\n",
    "print(r.status_code)\n",
    "print(r.url)\n",
    "html_text = r.text\n",
    "\n",
    "soup = BeautifulSoup(html_text, 'html.parser')\n",
    "print(soup.title)\n",
    "# print(soup.get_text())\n",
    "# print(soup.find_all(\"link\", href=True))\n",
    "body_text = soup.find(\"main\")\n",
    "print(body_text)\n",
    "# print(body_text.find(\"p.profile__user-location\"))"
   ]
  },
  {
   "cell_type": "code",
   "execution_count": 61,
   "metadata": {},
   "outputs": [
    {
     "name": "stdout",
     "output_type": "stream",
     "text": [
      "['__attrs__', '__bool__', '__class__', '__delattr__', '__dict__', '__dir__', '__doc__', '__enter__', '__eq__', '__exit__', '__format__', '__ge__', '__getattribute__', '__getstate__', '__gt__', '__hash__', '__init__', '__init_subclass__', '__iter__', '__le__', '__lt__', '__module__', '__ne__', '__new__', '__nonzero__', '__reduce__', '__reduce_ex__', '__repr__', '__setattr__', '__setstate__', '__sizeof__', '__str__', '__subclasshook__', '__weakref__', '_content', '_content_consumed', '_from_response', '_html', '_next', 'apparent_encoding', 'close', 'connection', 'content', 'cookies', 'elapsed', 'encoding', 'headers', 'history', 'html', 'is_permanent_redirect', 'is_redirect', 'iter_content', 'iter_lines', 'json', 'links', 'next', 'ok', 'raise_for_status', 'raw', 'reason', 'request', 'session', 'status_code', 'text', 'url']\n"
     ]
    },
    {
     "ename": "JSONDecodeError",
     "evalue": "Expecting value: line 1 column 1 (char 0)",
     "output_type": "error",
     "traceback": [
      "\u001b[1;31m---------------------------------------------------------------------------\u001b[0m",
      "\u001b[1;31mJSONDecodeError\u001b[0m                           Traceback (most recent call last)",
      "\u001b[1;32m<ipython-input-61-f482898ea000>\u001b[0m in \u001b[0;36m<module>\u001b[1;34m\u001b[0m\n\u001b[0;32m      3\u001b[0m \u001b[0mr\u001b[0m \u001b[1;33m=\u001b[0m \u001b[0msession\u001b[0m\u001b[1;33m.\u001b[0m\u001b[0mget\u001b[0m\u001b[1;33m(\u001b[0m\u001b[0murl\u001b[0m\u001b[1;33m)\u001b[0m\u001b[1;33m\u001b[0m\u001b[1;33m\u001b[0m\u001b[0m\n\u001b[0;32m      4\u001b[0m \u001b[0mprint\u001b[0m\u001b[1;33m(\u001b[0m\u001b[0mdir\u001b[0m\u001b[1;33m(\u001b[0m\u001b[0mr\u001b[0m\u001b[1;33m)\u001b[0m\u001b[1;33m)\u001b[0m\u001b[1;33m\u001b[0m\u001b[1;33m\u001b[0m\u001b[0m\n\u001b[1;32m----> 5\u001b[1;33m \u001b[0mprint\u001b[0m\u001b[1;33m(\u001b[0m\u001b[0mr\u001b[0m\u001b[1;33m.\u001b[0m\u001b[0mjson\u001b[0m\u001b[1;33m(\u001b[0m\u001b[1;33m)\u001b[0m\u001b[1;33m)\u001b[0m\u001b[1;33m\u001b[0m\u001b[1;33m\u001b[0m\u001b[0m\n\u001b[0m\u001b[0;32m      6\u001b[0m \u001b[1;31m# r.html.render()\u001b[0m\u001b[1;33m\u001b[0m\u001b[1;33m\u001b[0m\u001b[1;33m\u001b[0m\u001b[0m\n\u001b[0;32m      7\u001b[0m \u001b[1;31m# print(r.text)\u001b[0m\u001b[1;33m\u001b[0m\u001b[1;33m\u001b[0m\u001b[1;33m\u001b[0m\u001b[0m\n",
      "\u001b[1;32m~\\Anaconda3\\lib\\site-packages\\requests\\models.py\u001b[0m in \u001b[0;36mjson\u001b[1;34m(self, **kwargs)\u001b[0m\n\u001b[0;32m    898\u001b[0m                     \u001b[1;31m# used.\u001b[0m\u001b[1;33m\u001b[0m\u001b[1;33m\u001b[0m\u001b[1;33m\u001b[0m\u001b[0m\n\u001b[0;32m    899\u001b[0m                     \u001b[1;32mpass\u001b[0m\u001b[1;33m\u001b[0m\u001b[1;33m\u001b[0m\u001b[0m\n\u001b[1;32m--> 900\u001b[1;33m         \u001b[1;32mreturn\u001b[0m \u001b[0mcomplexjson\u001b[0m\u001b[1;33m.\u001b[0m\u001b[0mloads\u001b[0m\u001b[1;33m(\u001b[0m\u001b[0mself\u001b[0m\u001b[1;33m.\u001b[0m\u001b[0mtext\u001b[0m\u001b[1;33m,\u001b[0m \u001b[1;33m**\u001b[0m\u001b[0mkwargs\u001b[0m\u001b[1;33m)\u001b[0m\u001b[1;33m\u001b[0m\u001b[1;33m\u001b[0m\u001b[0m\n\u001b[0m\u001b[0;32m    901\u001b[0m \u001b[1;33m\u001b[0m\u001b[0m\n\u001b[0;32m    902\u001b[0m     \u001b[1;33m@\u001b[0m\u001b[0mproperty\u001b[0m\u001b[1;33m\u001b[0m\u001b[1;33m\u001b[0m\u001b[0m\n",
      "\u001b[1;32m~\\Anaconda3\\lib\\json\\__init__.py\u001b[0m in \u001b[0;36mloads\u001b[1;34m(s, cls, object_hook, parse_float, parse_int, parse_constant, object_pairs_hook, **kw)\u001b[0m\n\u001b[0;32m    355\u001b[0m             \u001b[0mparse_int\u001b[0m \u001b[1;32mis\u001b[0m \u001b[1;32mNone\u001b[0m \u001b[1;32mand\u001b[0m \u001b[0mparse_float\u001b[0m \u001b[1;32mis\u001b[0m \u001b[1;32mNone\u001b[0m \u001b[1;32mand\u001b[0m\u001b[1;33m\u001b[0m\u001b[1;33m\u001b[0m\u001b[0m\n\u001b[0;32m    356\u001b[0m             parse_constant is None and object_pairs_hook is None and not kw):\n\u001b[1;32m--> 357\u001b[1;33m         \u001b[1;32mreturn\u001b[0m \u001b[0m_default_decoder\u001b[0m\u001b[1;33m.\u001b[0m\u001b[0mdecode\u001b[0m\u001b[1;33m(\u001b[0m\u001b[0ms\u001b[0m\u001b[1;33m)\u001b[0m\u001b[1;33m\u001b[0m\u001b[1;33m\u001b[0m\u001b[0m\n\u001b[0m\u001b[0;32m    358\u001b[0m     \u001b[1;32mif\u001b[0m \u001b[0mcls\u001b[0m \u001b[1;32mis\u001b[0m \u001b[1;32mNone\u001b[0m\u001b[1;33m:\u001b[0m\u001b[1;33m\u001b[0m\u001b[1;33m\u001b[0m\u001b[0m\n\u001b[0;32m    359\u001b[0m         \u001b[0mcls\u001b[0m \u001b[1;33m=\u001b[0m \u001b[0mJSONDecoder\u001b[0m\u001b[1;33m\u001b[0m\u001b[1;33m\u001b[0m\u001b[0m\n",
      "\u001b[1;32m~\\Anaconda3\\lib\\json\\decoder.py\u001b[0m in \u001b[0;36mdecode\u001b[1;34m(self, s, _w)\u001b[0m\n\u001b[0;32m    335\u001b[0m \u001b[1;33m\u001b[0m\u001b[0m\n\u001b[0;32m    336\u001b[0m         \"\"\"\n\u001b[1;32m--> 337\u001b[1;33m         \u001b[0mobj\u001b[0m\u001b[1;33m,\u001b[0m \u001b[0mend\u001b[0m \u001b[1;33m=\u001b[0m \u001b[0mself\u001b[0m\u001b[1;33m.\u001b[0m\u001b[0mraw_decode\u001b[0m\u001b[1;33m(\u001b[0m\u001b[0ms\u001b[0m\u001b[1;33m,\u001b[0m \u001b[0midx\u001b[0m\u001b[1;33m=\u001b[0m\u001b[0m_w\u001b[0m\u001b[1;33m(\u001b[0m\u001b[0ms\u001b[0m\u001b[1;33m,\u001b[0m \u001b[1;36m0\u001b[0m\u001b[1;33m)\u001b[0m\u001b[1;33m.\u001b[0m\u001b[0mend\u001b[0m\u001b[1;33m(\u001b[0m\u001b[1;33m)\u001b[0m\u001b[1;33m)\u001b[0m\u001b[1;33m\u001b[0m\u001b[1;33m\u001b[0m\u001b[0m\n\u001b[0m\u001b[0;32m    338\u001b[0m         \u001b[0mend\u001b[0m \u001b[1;33m=\u001b[0m \u001b[0m_w\u001b[0m\u001b[1;33m(\u001b[0m\u001b[0ms\u001b[0m\u001b[1;33m,\u001b[0m \u001b[0mend\u001b[0m\u001b[1;33m)\u001b[0m\u001b[1;33m.\u001b[0m\u001b[0mend\u001b[0m\u001b[1;33m(\u001b[0m\u001b[1;33m)\u001b[0m\u001b[1;33m\u001b[0m\u001b[1;33m\u001b[0m\u001b[0m\n\u001b[0;32m    339\u001b[0m         \u001b[1;32mif\u001b[0m \u001b[0mend\u001b[0m \u001b[1;33m!=\u001b[0m \u001b[0mlen\u001b[0m\u001b[1;33m(\u001b[0m\u001b[0ms\u001b[0m\u001b[1;33m)\u001b[0m\u001b[1;33m:\u001b[0m\u001b[1;33m\u001b[0m\u001b[1;33m\u001b[0m\u001b[0m\n",
      "\u001b[1;32m~\\Anaconda3\\lib\\json\\decoder.py\u001b[0m in \u001b[0;36mraw_decode\u001b[1;34m(self, s, idx)\u001b[0m\n\u001b[0;32m    353\u001b[0m             \u001b[0mobj\u001b[0m\u001b[1;33m,\u001b[0m \u001b[0mend\u001b[0m \u001b[1;33m=\u001b[0m \u001b[0mself\u001b[0m\u001b[1;33m.\u001b[0m\u001b[0mscan_once\u001b[0m\u001b[1;33m(\u001b[0m\u001b[0ms\u001b[0m\u001b[1;33m,\u001b[0m \u001b[0midx\u001b[0m\u001b[1;33m)\u001b[0m\u001b[1;33m\u001b[0m\u001b[1;33m\u001b[0m\u001b[0m\n\u001b[0;32m    354\u001b[0m         \u001b[1;32mexcept\u001b[0m \u001b[0mStopIteration\u001b[0m \u001b[1;32mas\u001b[0m \u001b[0merr\u001b[0m\u001b[1;33m:\u001b[0m\u001b[1;33m\u001b[0m\u001b[1;33m\u001b[0m\u001b[0m\n\u001b[1;32m--> 355\u001b[1;33m             \u001b[1;32mraise\u001b[0m \u001b[0mJSONDecodeError\u001b[0m\u001b[1;33m(\u001b[0m\u001b[1;34m\"Expecting value\"\u001b[0m\u001b[1;33m,\u001b[0m \u001b[0ms\u001b[0m\u001b[1;33m,\u001b[0m \u001b[0merr\u001b[0m\u001b[1;33m.\u001b[0m\u001b[0mvalue\u001b[0m\u001b[1;33m)\u001b[0m \u001b[1;32mfrom\u001b[0m \u001b[1;32mNone\u001b[0m\u001b[1;33m\u001b[0m\u001b[1;33m\u001b[0m\u001b[0m\n\u001b[0m\u001b[0;32m    356\u001b[0m         \u001b[1;32mreturn\u001b[0m \u001b[0mobj\u001b[0m\u001b[1;33m,\u001b[0m \u001b[0mend\u001b[0m\u001b[1;33m\u001b[0m\u001b[1;33m\u001b[0m\u001b[0m\n",
      "\u001b[1;31mJSONDecodeError\u001b[0m: Expecting value: line 1 column 1 (char 0)"
     ]
    }
   ],
   "source": [
    "session = HTMLSession()\n",
    "\n",
    "r = session.get(url)\n",
    "print(dir(r))\n",
    "print(r.)\n",
    "# r.html.render()\n",
    "# print(r.text)"
   ]
  },
  {
   "cell_type": "code",
   "execution_count": null,
   "metadata": {},
   "outputs": [],
   "source": []
  }
 ],
 "metadata": {
  "interpreter": {
   "hash": "20fe9ac160caa27b484c121bdfff980af9c3868837d39524e09bbd9828f0ae76"
  },
  "kernelspec": {
   "display_name": "Python 3.8.8 64-bit ('base': conda)",
   "language": "python",
   "name": "python3"
  },
  "language_info": {
   "codemirror_mode": {
    "name": "ipython",
    "version": 3
   },
   "file_extension": ".py",
   "mimetype": "text/x-python",
   "name": "python",
   "nbconvert_exporter": "python",
   "pygments_lexer": "ipython3",
   "version": "3.8.8"
  },
  "orig_nbformat": 4
 },
 "nbformat": 4,
 "nbformat_minor": 2
}
